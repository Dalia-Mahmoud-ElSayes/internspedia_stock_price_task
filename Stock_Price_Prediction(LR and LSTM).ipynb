{
 "cells": [
  {
   "cell_type": "markdown",
   "metadata": {},
   "source": [
    "# Downloading Packages"
   ]
  },
  {
   "cell_type": "code",
   "execution_count": 168,
   "metadata": {},
   "outputs": [],
   "source": [
    "# !pip install plotly\n",
    "# !pip install chart_studio"
   ]
  },
  {
   "cell_type": "markdown",
   "metadata": {
    "id": "AYTxnKXmBPQ7"
   },
   "source": [
    "# Imports"
   ]
  },
  {
   "cell_type": "code",
   "execution_count": 169,
   "metadata": {
    "id": "RMZ_D64-7GDy"
   },
   "outputs": [],
   "source": [
    "import os\n",
    "import numpy as np\n",
    "import pandas as pd\n",
    "from sklearn.model_selection import train_test_split\n",
    "\n",
    "#plotting\n",
    "import matplotlib.pyplot as plt\n",
    "%matplotlib inline\n",
    "\n",
    "import chart_studio.plotly as py\n",
    "import plotly.graph_objs as go\n",
    "from plotly.offline import plot\n",
    "from plotly.offline import download_plotlyjs, init_notebook_mode, plot, iplot\n",
    "\n",
    "#For Preprocessing\n",
    "from sklearn.preprocessing import MinMaxScaler\n",
    "from sklearn.preprocessing import StandardScaler\n",
    "\n",
    "#For model evaluation\n",
    "from sklearn.metrics import mean_squared_error as mse\n",
    "from sklearn.metrics import r2_score\n",
    "\n",
    "#Linear regression\n",
    "from sklearn.linear_model import LinearRegression\n",
    "\n",
    "#LSTM Model\n",
    "from keras.models import Sequential\n",
    "from keras.layers import LSTM,Dropout,Dense\n"
   ]
  },
  {
   "cell_type": "markdown",
   "metadata": {
    "id": "NfwleQfJBT5e"
   },
   "source": [
    "# Read data"
   ]
  },
  {
   "cell_type": "code",
   "execution_count": 170,
   "metadata": {
    "id": "DkRo5By0BWwn"
   },
   "outputs": [],
   "source": [
    "data=pd.read_csv(\"Bombay iron & steel.csv\")"
   ]
  },
  {
   "cell_type": "markdown",
   "metadata": {
    "id": "f2SE74kxQwC0"
   },
   "source": [
    "# Explore data"
   ]
  },
  {
   "cell_type": "code",
   "execution_count": 171,
   "metadata": {
    "colab": {
     "base_uri": "https://localhost:8080/",
     "height": 206
    },
    "id": "jOA1LXS_DYdp",
    "outputId": "dabe454a-0af6-484d-b155-428fe515327f"
   },
   "outputs": [
    {
     "data": {
      "text/html": [
       "<div>\n",
       "<style scoped>\n",
       "    .dataframe tbody tr th:only-of-type {\n",
       "        vertical-align: middle;\n",
       "    }\n",
       "\n",
       "    .dataframe tbody tr th {\n",
       "        vertical-align: top;\n",
       "    }\n",
       "\n",
       "    .dataframe thead th {\n",
       "        text-align: right;\n",
       "    }\n",
       "</style>\n",
       "<table border=\"1\" class=\"dataframe\">\n",
       "  <thead>\n",
       "    <tr style=\"text-align: right;\">\n",
       "      <th></th>\n",
       "      <th>Date</th>\n",
       "      <th>Open</th>\n",
       "      <th>High</th>\n",
       "      <th>Low</th>\n",
       "      <th>Close</th>\n",
       "      <th>WAP</th>\n",
       "      <th>No. of Shares</th>\n",
       "      <th>No. of Trades</th>\n",
       "      <th>Total Turnover</th>\n",
       "      <th>Deliverable Quantity</th>\n",
       "      <th>% Deli. Qty to Traded Qty</th>\n",
       "      <th>Spread H-L</th>\n",
       "      <th>Spread C-O</th>\n",
       "    </tr>\n",
       "  </thead>\n",
       "  <tbody>\n",
       "    <tr>\n",
       "      <th>0</th>\n",
       "      <td>10/5/2009</td>\n",
       "      <td>1.00</td>\n",
       "      <td>1.00</td>\n",
       "      <td>1.00</td>\n",
       "      <td>1.00</td>\n",
       "      <td>1.00</td>\n",
       "      <td>50</td>\n",
       "      <td>1</td>\n",
       "      <td>50</td>\n",
       "      <td>50.0</td>\n",
       "      <td>100.0</td>\n",
       "      <td>0.0</td>\n",
       "      <td>0.0</td>\n",
       "    </tr>\n",
       "    <tr>\n",
       "      <th>1</th>\n",
       "      <td>2/1/2000</td>\n",
       "      <td>1.05</td>\n",
       "      <td>1.05</td>\n",
       "      <td>1.05</td>\n",
       "      <td>1.05</td>\n",
       "      <td>1.05</td>\n",
       "      <td>150</td>\n",
       "      <td>1</td>\n",
       "      <td>157</td>\n",
       "      <td>NaN</td>\n",
       "      <td>NaN</td>\n",
       "      <td>0.0</td>\n",
       "      <td>0.0</td>\n",
       "    </tr>\n",
       "    <tr>\n",
       "      <th>2</th>\n",
       "      <td>12/27/1999</td>\n",
       "      <td>1.00</td>\n",
       "      <td>1.00</td>\n",
       "      <td>1.00</td>\n",
       "      <td>1.00</td>\n",
       "      <td>1.00</td>\n",
       "      <td>200</td>\n",
       "      <td>1</td>\n",
       "      <td>200</td>\n",
       "      <td>NaN</td>\n",
       "      <td>NaN</td>\n",
       "      <td>0.0</td>\n",
       "      <td>0.0</td>\n",
       "    </tr>\n",
       "    <tr>\n",
       "      <th>3</th>\n",
       "      <td>9/3/1999</td>\n",
       "      <td>1.40</td>\n",
       "      <td>1.40</td>\n",
       "      <td>1.40</td>\n",
       "      <td>1.40</td>\n",
       "      <td>1.40</td>\n",
       "      <td>100</td>\n",
       "      <td>1</td>\n",
       "      <td>140</td>\n",
       "      <td>NaN</td>\n",
       "      <td>NaN</td>\n",
       "      <td>0.0</td>\n",
       "      <td>0.0</td>\n",
       "    </tr>\n",
       "    <tr>\n",
       "      <th>4</th>\n",
       "      <td>8/13/1999</td>\n",
       "      <td>1.45</td>\n",
       "      <td>1.45</td>\n",
       "      <td>1.45</td>\n",
       "      <td>1.45</td>\n",
       "      <td>1.44</td>\n",
       "      <td>50</td>\n",
       "      <td>1</td>\n",
       "      <td>72</td>\n",
       "      <td>NaN</td>\n",
       "      <td>NaN</td>\n",
       "      <td>0.0</td>\n",
       "      <td>0.0</td>\n",
       "    </tr>\n",
       "  </tbody>\n",
       "</table>\n",
       "</div>"
      ],
      "text/plain": [
       "         Date  Open  High   Low  Close   WAP  No. of Shares  No. of Trades  \\\n",
       "0   10/5/2009  1.00  1.00  1.00   1.00  1.00             50              1   \n",
       "1    2/1/2000  1.05  1.05  1.05   1.05  1.05            150              1   \n",
       "2  12/27/1999  1.00  1.00  1.00   1.00  1.00            200              1   \n",
       "3    9/3/1999  1.40  1.40  1.40   1.40  1.40            100              1   \n",
       "4   8/13/1999  1.45  1.45  1.45   1.45  1.44             50              1   \n",
       "\n",
       "   Total Turnover  Deliverable Quantity  % Deli. Qty to Traded Qty  \\\n",
       "0              50                  50.0                      100.0   \n",
       "1             157                   NaN                        NaN   \n",
       "2             200                   NaN                        NaN   \n",
       "3             140                   NaN                        NaN   \n",
       "4              72                   NaN                        NaN   \n",
       "\n",
       "   Spread H-L  Spread C-O  \n",
       "0         0.0         0.0  \n",
       "1         0.0         0.0  \n",
       "2         0.0         0.0  \n",
       "3         0.0         0.0  \n",
       "4         0.0         0.0  "
      ]
     },
     "execution_count": 171,
     "metadata": {},
     "output_type": "execute_result"
    }
   ],
   "source": [
    "data.head()"
   ]
  },
  {
   "cell_type": "code",
   "execution_count": 172,
   "metadata": {
    "colab": {
     "base_uri": "https://localhost:8080/",
     "height": 206
    },
    "id": "3ksgoGUfDZPf",
    "outputId": "eb439fe4-fae5-4ab2-817f-c30c6649373a"
   },
   "outputs": [
    {
     "data": {
      "text/html": [
       "<div>\n",
       "<style scoped>\n",
       "    .dataframe tbody tr th:only-of-type {\n",
       "        vertical-align: middle;\n",
       "    }\n",
       "\n",
       "    .dataframe tbody tr th {\n",
       "        vertical-align: top;\n",
       "    }\n",
       "\n",
       "    .dataframe thead th {\n",
       "        text-align: right;\n",
       "    }\n",
       "</style>\n",
       "<table border=\"1\" class=\"dataframe\">\n",
       "  <thead>\n",
       "    <tr style=\"text-align: right;\">\n",
       "      <th></th>\n",
       "      <th>Date</th>\n",
       "      <th>Open</th>\n",
       "      <th>High</th>\n",
       "      <th>Low</th>\n",
       "      <th>Close</th>\n",
       "      <th>WAP</th>\n",
       "      <th>No. of Shares</th>\n",
       "      <th>No. of Trades</th>\n",
       "      <th>Total Turnover</th>\n",
       "      <th>Deliverable Quantity</th>\n",
       "      <th>% Deli. Qty to Traded Qty</th>\n",
       "      <th>Spread H-L</th>\n",
       "      <th>Spread C-O</th>\n",
       "    </tr>\n",
       "  </thead>\n",
       "  <tbody>\n",
       "    <tr>\n",
       "      <th>444</th>\n",
       "      <td>1/14/1991</td>\n",
       "      <td>12.5</td>\n",
       "      <td>15.0</td>\n",
       "      <td>12.5</td>\n",
       "      <td>15.0</td>\n",
       "      <td>0.0</td>\n",
       "      <td>0</td>\n",
       "      <td>0</td>\n",
       "      <td>0</td>\n",
       "      <td>NaN</td>\n",
       "      <td>NaN</td>\n",
       "      <td>2.5</td>\n",
       "      <td>2.5</td>\n",
       "    </tr>\n",
       "    <tr>\n",
       "      <th>445</th>\n",
       "      <td>1/11/1991</td>\n",
       "      <td>12.5</td>\n",
       "      <td>12.5</td>\n",
       "      <td>12.0</td>\n",
       "      <td>12.5</td>\n",
       "      <td>0.0</td>\n",
       "      <td>0</td>\n",
       "      <td>0</td>\n",
       "      <td>0</td>\n",
       "      <td>NaN</td>\n",
       "      <td>NaN</td>\n",
       "      <td>0.5</td>\n",
       "      <td>0.0</td>\n",
       "    </tr>\n",
       "    <tr>\n",
       "      <th>446</th>\n",
       "      <td>1/9/1991</td>\n",
       "      <td>12.5</td>\n",
       "      <td>15.0</td>\n",
       "      <td>12.5</td>\n",
       "      <td>15.0</td>\n",
       "      <td>0.0</td>\n",
       "      <td>0</td>\n",
       "      <td>0</td>\n",
       "      <td>0</td>\n",
       "      <td>NaN</td>\n",
       "      <td>NaN</td>\n",
       "      <td>2.5</td>\n",
       "      <td>2.5</td>\n",
       "    </tr>\n",
       "    <tr>\n",
       "      <th>447</th>\n",
       "      <td>1/7/1991</td>\n",
       "      <td>12.5</td>\n",
       "      <td>15.0</td>\n",
       "      <td>12.5</td>\n",
       "      <td>15.0</td>\n",
       "      <td>0.0</td>\n",
       "      <td>0</td>\n",
       "      <td>0</td>\n",
       "      <td>0</td>\n",
       "      <td>NaN</td>\n",
       "      <td>NaN</td>\n",
       "      <td>2.5</td>\n",
       "      <td>2.5</td>\n",
       "    </tr>\n",
       "    <tr>\n",
       "      <th>448</th>\n",
       "      <td>1/3/1991</td>\n",
       "      <td>15.0</td>\n",
       "      <td>15.0</td>\n",
       "      <td>15.0</td>\n",
       "      <td>15.0</td>\n",
       "      <td>0.0</td>\n",
       "      <td>0</td>\n",
       "      <td>0</td>\n",
       "      <td>0</td>\n",
       "      <td>NaN</td>\n",
       "      <td>NaN</td>\n",
       "      <td>0.0</td>\n",
       "      <td>0.0</td>\n",
       "    </tr>\n",
       "  </tbody>\n",
       "</table>\n",
       "</div>"
      ],
      "text/plain": [
       "          Date  Open  High   Low  Close  WAP  No. of Shares  No. of Trades  \\\n",
       "444  1/14/1991  12.5  15.0  12.5   15.0  0.0              0              0   \n",
       "445  1/11/1991  12.5  12.5  12.0   12.5  0.0              0              0   \n",
       "446   1/9/1991  12.5  15.0  12.5   15.0  0.0              0              0   \n",
       "447   1/7/1991  12.5  15.0  12.5   15.0  0.0              0              0   \n",
       "448   1/3/1991  15.0  15.0  15.0   15.0  0.0              0              0   \n",
       "\n",
       "     Total Turnover  Deliverable Quantity  % Deli. Qty to Traded Qty  \\\n",
       "444               0                   NaN                        NaN   \n",
       "445               0                   NaN                        NaN   \n",
       "446               0                   NaN                        NaN   \n",
       "447               0                   NaN                        NaN   \n",
       "448               0                   NaN                        NaN   \n",
       "\n",
       "     Spread H-L  Spread C-O  \n",
       "444         2.5         2.5  \n",
       "445         0.5         0.0  \n",
       "446         2.5         2.5  \n",
       "447         2.5         2.5  \n",
       "448         0.0         0.0  "
      ]
     },
     "execution_count": 172,
     "metadata": {},
     "output_type": "execute_result"
    }
   ],
   "source": [
    "data.tail()"
   ]
  },
  {
   "cell_type": "code",
   "execution_count": 173,
   "metadata": {
    "colab": {
     "base_uri": "https://localhost:8080/"
    },
    "id": "_OxYPYnHGEMq",
    "outputId": "b55afb3d-39eb-46e8-ea01-e2056e99c298"
   },
   "outputs": [
    {
     "name": "stdout",
     "output_type": "stream",
     "text": [
      "<class 'pandas.core.frame.DataFrame'>\n",
      "RangeIndex: 449 entries, 0 to 448\n",
      "Data columns (total 13 columns):\n",
      " #   Column                     Non-Null Count  Dtype  \n",
      "---  ------                     --------------  -----  \n",
      " 0   Date                       449 non-null    object \n",
      " 1   Open                       449 non-null    float64\n",
      " 2   High                       449 non-null    float64\n",
      " 3   Low                        449 non-null    float64\n",
      " 4   Close                      449 non-null    float64\n",
      " 5   WAP                        449 non-null    float64\n",
      " 6   No. of Shares              449 non-null    int64  \n",
      " 7   No. of Trades              449 non-null    int64  \n",
      " 8   Total Turnover             449 non-null    int64  \n",
      " 9   Deliverable Quantity       1 non-null      float64\n",
      " 10  % Deli. Qty to Traded Qty  1 non-null      float64\n",
      " 11  Spread H-L                 449 non-null    float64\n",
      " 12  Spread C-O                 449 non-null    float64\n",
      "dtypes: float64(9), int64(3), object(1)\n",
      "memory usage: 45.7+ KB\n"
     ]
    }
   ],
   "source": [
    "data.info()"
   ]
  },
  {
   "cell_type": "code",
   "execution_count": 174,
   "metadata": {
    "id": "bHhJjFYIGK8Y"
   },
   "outputs": [],
   "source": [
    "data.columns=['Date', 'Open', 'High', 'Low', 'Close', 'WAP', 'Shares',\n",
    "       'Trades', 'Total Turnover', 'Deliverable Quantity',\n",
    "       '% Deli. Qty to Traded Qty', 'Spread H-L', 'Spread C-O']"
   ]
  },
  {
   "cell_type": "markdown",
   "metadata": {
    "id": "NUKucrmTQ4Os"
   },
   "source": [
    "# Cleaning data"
   ]
  },
  {
   "cell_type": "markdown",
   "metadata": {},
   "source": [
    "## Converting data column into date format"
   ]
  },
  {
   "cell_type": "code",
   "execution_count": 175,
   "metadata": {},
   "outputs": [
    {
     "data": {
      "text/html": [
       "<div>\n",
       "<style scoped>\n",
       "    .dataframe tbody tr th:only-of-type {\n",
       "        vertical-align: middle;\n",
       "    }\n",
       "\n",
       "    .dataframe tbody tr th {\n",
       "        vertical-align: top;\n",
       "    }\n",
       "\n",
       "    .dataframe thead th {\n",
       "        text-align: right;\n",
       "    }\n",
       "</style>\n",
       "<table border=\"1\" class=\"dataframe\">\n",
       "  <thead>\n",
       "    <tr style=\"text-align: right;\">\n",
       "      <th></th>\n",
       "      <th>Date</th>\n",
       "      <th>Open</th>\n",
       "      <th>High</th>\n",
       "      <th>Low</th>\n",
       "      <th>Close</th>\n",
       "      <th>WAP</th>\n",
       "      <th>Shares</th>\n",
       "      <th>Trades</th>\n",
       "      <th>Total Turnover</th>\n",
       "      <th>Deliverable Quantity</th>\n",
       "      <th>% Deli. Qty to Traded Qty</th>\n",
       "      <th>Spread H-L</th>\n",
       "      <th>Spread C-O</th>\n",
       "    </tr>\n",
       "  </thead>\n",
       "  <tbody>\n",
       "    <tr>\n",
       "      <th>0</th>\n",
       "      <td>2009-10-05</td>\n",
       "      <td>1.00</td>\n",
       "      <td>1.00</td>\n",
       "      <td>1.00</td>\n",
       "      <td>1.00</td>\n",
       "      <td>1.00</td>\n",
       "      <td>50</td>\n",
       "      <td>1</td>\n",
       "      <td>50</td>\n",
       "      <td>50.0</td>\n",
       "      <td>100.0</td>\n",
       "      <td>0.0</td>\n",
       "      <td>0.0</td>\n",
       "    </tr>\n",
       "    <tr>\n",
       "      <th>1</th>\n",
       "      <td>2000-02-01</td>\n",
       "      <td>1.05</td>\n",
       "      <td>1.05</td>\n",
       "      <td>1.05</td>\n",
       "      <td>1.05</td>\n",
       "      <td>1.05</td>\n",
       "      <td>150</td>\n",
       "      <td>1</td>\n",
       "      <td>157</td>\n",
       "      <td>NaN</td>\n",
       "      <td>NaN</td>\n",
       "      <td>0.0</td>\n",
       "      <td>0.0</td>\n",
       "    </tr>\n",
       "    <tr>\n",
       "      <th>2</th>\n",
       "      <td>1999-12-27</td>\n",
       "      <td>1.00</td>\n",
       "      <td>1.00</td>\n",
       "      <td>1.00</td>\n",
       "      <td>1.00</td>\n",
       "      <td>1.00</td>\n",
       "      <td>200</td>\n",
       "      <td>1</td>\n",
       "      <td>200</td>\n",
       "      <td>NaN</td>\n",
       "      <td>NaN</td>\n",
       "      <td>0.0</td>\n",
       "      <td>0.0</td>\n",
       "    </tr>\n",
       "  </tbody>\n",
       "</table>\n",
       "</div>"
      ],
      "text/plain": [
       "        Date  Open  High   Low  Close   WAP  Shares  Trades  Total Turnover  \\\n",
       "0 2009-10-05  1.00  1.00  1.00   1.00  1.00      50       1              50   \n",
       "1 2000-02-01  1.05  1.05  1.05   1.05  1.05     150       1             157   \n",
       "2 1999-12-27  1.00  1.00  1.00   1.00  1.00     200       1             200   \n",
       "\n",
       "   Deliverable Quantity  % Deli. Qty to Traded Qty  Spread H-L  Spread C-O  \n",
       "0                  50.0                      100.0         0.0         0.0  \n",
       "1                   NaN                        NaN         0.0         0.0  \n",
       "2                   NaN                        NaN         0.0         0.0  "
      ]
     },
     "execution_count": 175,
     "metadata": {},
     "output_type": "execute_result"
    }
   ],
   "source": [
    "data['Date']=pd.to_datetime(data['Date'])\n",
    "data.head(3)"
   ]
  },
  {
   "cell_type": "markdown",
   "metadata": {
    "id": "6xhdaIqXP8L6"
   },
   "source": [
    "## Drop unnecessary columns\n"
   ]
  },
  {
   "cell_type": "code",
   "execution_count": 176,
   "metadata": {
    "id": "h3fzbLbjve-y"
   },
   "outputs": [],
   "source": [
    "data=data.drop(['WAP', 'Shares',\n",
    "       'Trades', 'Total Turnover', 'Deliverable Quantity','% Deli. Qty to Traded Qty','Spread H-L', 'Spread C-O'], axis = 1)"
   ]
  },
  {
   "cell_type": "code",
   "execution_count": 177,
   "metadata": {
    "colab": {
     "base_uri": "https://localhost:8080/",
     "height": 424
    },
    "id": "irqVrYBtwZ4l",
    "outputId": "cb76a309-4784-43f4-9771-57b7a235747d"
   },
   "outputs": [
    {
     "data": {
      "text/html": [
       "<div>\n",
       "<style scoped>\n",
       "    .dataframe tbody tr th:only-of-type {\n",
       "        vertical-align: middle;\n",
       "    }\n",
       "\n",
       "    .dataframe tbody tr th {\n",
       "        vertical-align: top;\n",
       "    }\n",
       "\n",
       "    .dataframe thead th {\n",
       "        text-align: right;\n",
       "    }\n",
       "</style>\n",
       "<table border=\"1\" class=\"dataframe\">\n",
       "  <thead>\n",
       "    <tr style=\"text-align: right;\">\n",
       "      <th></th>\n",
       "      <th>Date</th>\n",
       "      <th>Open</th>\n",
       "      <th>High</th>\n",
       "      <th>Low</th>\n",
       "      <th>Close</th>\n",
       "    </tr>\n",
       "  </thead>\n",
       "  <tbody>\n",
       "    <tr>\n",
       "      <th>0</th>\n",
       "      <td>2009-10-05</td>\n",
       "      <td>1.00</td>\n",
       "      <td>1.00</td>\n",
       "      <td>1.00</td>\n",
       "      <td>1.00</td>\n",
       "    </tr>\n",
       "    <tr>\n",
       "      <th>1</th>\n",
       "      <td>2000-02-01</td>\n",
       "      <td>1.05</td>\n",
       "      <td>1.05</td>\n",
       "      <td>1.05</td>\n",
       "      <td>1.05</td>\n",
       "    </tr>\n",
       "    <tr>\n",
       "      <th>2</th>\n",
       "      <td>1999-12-27</td>\n",
       "      <td>1.00</td>\n",
       "      <td>1.00</td>\n",
       "      <td>1.00</td>\n",
       "      <td>1.00</td>\n",
       "    </tr>\n",
       "    <tr>\n",
       "      <th>3</th>\n",
       "      <td>1999-09-03</td>\n",
       "      <td>1.40</td>\n",
       "      <td>1.40</td>\n",
       "      <td>1.40</td>\n",
       "      <td>1.40</td>\n",
       "    </tr>\n",
       "    <tr>\n",
       "      <th>4</th>\n",
       "      <td>1999-08-13</td>\n",
       "      <td>1.45</td>\n",
       "      <td>1.45</td>\n",
       "      <td>1.45</td>\n",
       "      <td>1.45</td>\n",
       "    </tr>\n",
       "    <tr>\n",
       "      <th>...</th>\n",
       "      <td>...</td>\n",
       "      <td>...</td>\n",
       "      <td>...</td>\n",
       "      <td>...</td>\n",
       "      <td>...</td>\n",
       "    </tr>\n",
       "    <tr>\n",
       "      <th>444</th>\n",
       "      <td>1991-01-14</td>\n",
       "      <td>12.50</td>\n",
       "      <td>15.00</td>\n",
       "      <td>12.50</td>\n",
       "      <td>15.00</td>\n",
       "    </tr>\n",
       "    <tr>\n",
       "      <th>445</th>\n",
       "      <td>1991-01-11</td>\n",
       "      <td>12.50</td>\n",
       "      <td>12.50</td>\n",
       "      <td>12.00</td>\n",
       "      <td>12.50</td>\n",
       "    </tr>\n",
       "    <tr>\n",
       "      <th>446</th>\n",
       "      <td>1991-01-09</td>\n",
       "      <td>12.50</td>\n",
       "      <td>15.00</td>\n",
       "      <td>12.50</td>\n",
       "      <td>15.00</td>\n",
       "    </tr>\n",
       "    <tr>\n",
       "      <th>447</th>\n",
       "      <td>1991-01-07</td>\n",
       "      <td>12.50</td>\n",
       "      <td>15.00</td>\n",
       "      <td>12.50</td>\n",
       "      <td>15.00</td>\n",
       "    </tr>\n",
       "    <tr>\n",
       "      <th>448</th>\n",
       "      <td>1991-01-03</td>\n",
       "      <td>15.00</td>\n",
       "      <td>15.00</td>\n",
       "      <td>15.00</td>\n",
       "      <td>15.00</td>\n",
       "    </tr>\n",
       "  </tbody>\n",
       "</table>\n",
       "<p>449 rows × 5 columns</p>\n",
       "</div>"
      ],
      "text/plain": [
       "          Date   Open   High    Low  Close\n",
       "0   2009-10-05   1.00   1.00   1.00   1.00\n",
       "1   2000-02-01   1.05   1.05   1.05   1.05\n",
       "2   1999-12-27   1.00   1.00   1.00   1.00\n",
       "3   1999-09-03   1.40   1.40   1.40   1.40\n",
       "4   1999-08-13   1.45   1.45   1.45   1.45\n",
       "..         ...    ...    ...    ...    ...\n",
       "444 1991-01-14  12.50  15.00  12.50  15.00\n",
       "445 1991-01-11  12.50  12.50  12.00  12.50\n",
       "446 1991-01-09  12.50  15.00  12.50  15.00\n",
       "447 1991-01-07  12.50  15.00  12.50  15.00\n",
       "448 1991-01-03  15.00  15.00  15.00  15.00\n",
       "\n",
       "[449 rows x 5 columns]"
      ]
     },
     "execution_count": 177,
     "metadata": {},
     "output_type": "execute_result"
    }
   ],
   "source": [
    "data\n"
   ]
  },
  {
   "cell_type": "markdown",
   "metadata": {
    "id": "-dBA4tHzQZOa"
   },
   "source": [
    "## Check for duplicates"
   ]
  },
  {
   "cell_type": "code",
   "execution_count": 178,
   "metadata": {
    "colab": {
     "base_uri": "https://localhost:8080/"
    },
    "id": "ouwGSiLwQY3P",
    "outputId": "0c4feed0-f9da-4fdf-de22-f3e74f7cef15"
   },
   "outputs": [
    {
     "data": {
      "text/plain": [
       "0"
      ]
     },
     "execution_count": 178,
     "metadata": {},
     "output_type": "execute_result"
    }
   ],
   "source": [
    "data.duplicated().sum()"
   ]
  },
  {
   "cell_type": "markdown",
   "metadata": {},
   "source": [
    "## Describe data"
   ]
  },
  {
   "cell_type": "code",
   "execution_count": 179,
   "metadata": {},
   "outputs": [
    {
     "data": {
      "text/html": [
       "<div>\n",
       "<style scoped>\n",
       "    .dataframe tbody tr th:only-of-type {\n",
       "        vertical-align: middle;\n",
       "    }\n",
       "\n",
       "    .dataframe tbody tr th {\n",
       "        vertical-align: top;\n",
       "    }\n",
       "\n",
       "    .dataframe thead th {\n",
       "        text-align: right;\n",
       "    }\n",
       "</style>\n",
       "<table border=\"1\" class=\"dataframe\">\n",
       "  <thead>\n",
       "    <tr style=\"text-align: right;\">\n",
       "      <th></th>\n",
       "      <th>Open</th>\n",
       "      <th>High</th>\n",
       "      <th>Low</th>\n",
       "      <th>Close</th>\n",
       "    </tr>\n",
       "  </thead>\n",
       "  <tbody>\n",
       "    <tr>\n",
       "      <th>count</th>\n",
       "      <td>449.000000</td>\n",
       "      <td>449.000000</td>\n",
       "      <td>449.000000</td>\n",
       "      <td>449.000000</td>\n",
       "    </tr>\n",
       "    <tr>\n",
       "      <th>mean</th>\n",
       "      <td>11.842984</td>\n",
       "      <td>13.235412</td>\n",
       "      <td>11.696102</td>\n",
       "      <td>13.162584</td>\n",
       "    </tr>\n",
       "    <tr>\n",
       "      <th>std</th>\n",
       "      <td>6.062365</td>\n",
       "      <td>7.007608</td>\n",
       "      <td>5.823797</td>\n",
       "      <td>6.972521</td>\n",
       "    </tr>\n",
       "    <tr>\n",
       "      <th>min</th>\n",
       "      <td>1.000000</td>\n",
       "      <td>1.000000</td>\n",
       "      <td>1.000000</td>\n",
       "      <td>1.000000</td>\n",
       "    </tr>\n",
       "    <tr>\n",
       "      <th>25%</th>\n",
       "      <td>7.500000</td>\n",
       "      <td>7.750000</td>\n",
       "      <td>7.500000</td>\n",
       "      <td>7.500000</td>\n",
       "    </tr>\n",
       "    <tr>\n",
       "      <th>50%</th>\n",
       "      <td>12.500000</td>\n",
       "      <td>15.000000</td>\n",
       "      <td>12.500000</td>\n",
       "      <td>15.000000</td>\n",
       "    </tr>\n",
       "    <tr>\n",
       "      <th>75%</th>\n",
       "      <td>15.000000</td>\n",
       "      <td>17.000000</td>\n",
       "      <td>15.000000</td>\n",
       "      <td>17.000000</td>\n",
       "    </tr>\n",
       "    <tr>\n",
       "      <th>max</th>\n",
       "      <td>45.000000</td>\n",
       "      <td>50.000000</td>\n",
       "      <td>45.000000</td>\n",
       "      <td>50.000000</td>\n",
       "    </tr>\n",
       "  </tbody>\n",
       "</table>\n",
       "</div>"
      ],
      "text/plain": [
       "             Open        High         Low       Close\n",
       "count  449.000000  449.000000  449.000000  449.000000\n",
       "mean    11.842984   13.235412   11.696102   13.162584\n",
       "std      6.062365    7.007608    5.823797    6.972521\n",
       "min      1.000000    1.000000    1.000000    1.000000\n",
       "25%      7.500000    7.750000    7.500000    7.500000\n",
       "50%     12.500000   15.000000   12.500000   15.000000\n",
       "75%     15.000000   17.000000   15.000000   17.000000\n",
       "max     45.000000   50.000000   45.000000   50.000000"
      ]
     },
     "execution_count": 179,
     "metadata": {},
     "output_type": "execute_result"
    }
   ],
   "source": [
    "data.describe()"
   ]
  },
  {
   "cell_type": "markdown",
   "metadata": {},
   "source": [
    "## Box plotting"
   ]
  },
  {
   "cell_type": "code",
   "execution_count": 180,
   "metadata": {},
   "outputs": [
    {
     "data": {
      "text/plain": [
       "<AxesSubplot:>"
      ]
     },
     "execution_count": 180,
     "metadata": {},
     "output_type": "execute_result"
    },
    {
     "data": {
      "image/png": "[encoded data removed]",
      "text/plain": [
       "<Figure size 432x288 with 1 Axes>"
      ]
     },
     "metadata": {
      "needs_background": "light"
     },
     "output_type": "display_data"
    }
   ],
   "source": [
    "data[['Open','High','Low','Close']].plot(kind='box')"
   ]
  },
  {
   "cell_type": "markdown",
   "metadata": {},
   "source": [
    "The box plot show there are outliers in data"
   ]
  },
  {
   "cell_type": "markdown",
   "metadata": {},
   "source": [
    "## Check by skewness"
   ]
  },
  {
   "cell_type": "code",
   "execution_count": 181,
   "metadata": {},
   "outputs": [
    {
     "name": "stderr",
     "output_type": "stream",
     "text": [
      "C:\\Users\\Dalia\\AppData\\Local\\Temp/ipykernel_30208/1188251951.py:1: FutureWarning:\n",
      "\n",
      "Dropping of nuisance columns in DataFrame reductions (with 'numeric_only=None') is deprecated; in a future version this will raise TypeError.  Select only valid columns before calling the reduction.\n",
      "\n"
     ]
    },
    {
     "data": {
      "text/plain": [
       "Open     0.994938\n",
       "High     0.746061\n",
       "Low      0.848786\n",
       "Close    0.750701\n",
       "dtype: float64"
      ]
     },
     "execution_count": 181,
     "metadata": {},
     "output_type": "execute_result"
    }
   ],
   "source": [
    "data.skew()"
   ]
  },
  {
   "cell_type": "markdown",
   "metadata": {},
   "source": [
    "According to skewness there is no outliers"
   ]
  },
  {
   "cell_type": "markdown",
   "metadata": {},
   "source": [
    "## Plotting Closing Price"
   ]
  },
  {
   "cell_type": "code",
   "execution_count": 182,
   "metadata": {},
   "outputs": [
    {
     "data": {
      "application/vnd.plotly.v1+json": {
       "config": {
        "linkText": "Export to plot.ly",
        "plotlyServerURL": "https://plot.ly",
        "showLink": false
       },
       "data": [
        {
         "type": "scatter",
         "x": [
          "2009-10-05T00:00:00",
          "2000-02-01T00:00:00",
          "1999-12-27T00:00:00",
          "1999-09-03T00:00:00",
          "1999-08-13T00:00:00",
          "1999-07-29T00:00:00",
          "1999-06-11T00:00:00",
          "1999-06-09T00:00:00",
          "1999-05-05T00:00:00",
          "1999-04-12T00:00:00",
          "1998-09-21T00:00:00",
          "1998-09-18T00:00:00",
          "1998-03-17T00:00:00",
          "1998-03-12T00:00:00",
          "1998-02-05T00:00:00",
          "1997-12-23T00:00:00",
          "1997-11-26T00:00:00",
          "1997-11-20T00:00:00",
          "1997-09-29T00:00:00",
          "1997-09-22T00:00:00",
          "1997-09-19T00:00:00",
          "1997-08-28T00:00:00",
          "1997-08-22T00:00:00",
          "1997-08-11T00:00:00",
          "1997-07-16T00:00:00",
          "1997-07-15T00:00:00",
          "1997-07-11T00:00:00",
          "1997-06-04T00:00:00",
          "1997-06-02T00:00:00",
          "1997-05-27T00:00:00",
          "1997-05-22T00:00:00",
          "1997-05-20T00:00:00",
          "1997-05-15T00:00:00",
          "1997-05-13T00:00:00",
          "1997-05-06T00:00:00",
          "1997-04-15T00:00:00",
          "1997-03-20T00:00:00",
          "1997-03-17T00:00:00",
          "1997-03-10T00:00:00",
          "1997-03-04T00:00:00",
          "1997-02-10T00:00:00",
          "1997-01-31T00:00:00",
          "1997-01-28T00:00:00",
          "1997-01-27T00:00:00",
          "1997-01-10T00:00:00",
          "1997-01-09T00:00:00",
          "1997-01-07T00:00:00",
          "1996-12-13T00:00:00",
          "1996-11-29T00:00:00",
          "1996-11-27T00:00:00",
          "1996-11-14T00:00:00",
          "1996-11-01T00:00:00",
          "1996-10-31T00:00:00",
          "1996-10-24T00:00:00",
          "1996-10-18T00:00:00",
          "1996-10-17T00:00:00",
          "1996-10-14T00:00:00",
          "1996-10-11T00:00:00",
          "1996-10-03T00:00:00",
          "1996-09-30T00:00:00",
          "1996-09-06T00:00:00",
          "1996-08-30T00:00:00",
          "1996-08-05T00:00:00",
          "1996-08-02T00:00:00",
          "1996-07-30T00:00:00",
          "1996-07-25T00:00:00",
          "1996-07-23T00:00:00",
          "1996-07-19T00:00:00",
          "1996-06-21T00:00:00",
          "1996-06-19T00:00:00",
          "1996-06-17T00:00:00",
          "1996-06-11T00:00:00",
          "1996-06-10T00:00:00",
          "1996-06-07T00:00:00",
          "1996-05-28T00:00:00",
          "1996-05-27T00:00:00",
          "1996-05-24T00:00:00",
          "1996-05-23T00:00:00",
          "1996-05-22T00:00:00",
          "1996-04-08T00:00:00",
          "1996-03-18T00:00:00",
          "1996-03-15T00:00:00",
          "1996-03-12T00:00:00",
          "1996-02-06T00:00:00",
          "1996-02-01T00:00:00",
          "1996-01-31T00:00:00",
          "1996-01-30T00:00:00",
          "1996-01-29T00:00:00",
          "1996-01-23T00:00:00",
          "1996-01-22T00:00:00",
          "1996-01-19T00:00:00",
          "1996-01-17T00:00:00",
          "1996-01-05T00:00:00",
          "1996-01-04T00:00:00",
          "1996-01-03T00:00:00",
          "1996-01-01T00:00:00",
          "1995-12-22T00:00:00",
          "1995-12-21T00:00:00",
          "1995-12-20T00:00:00",
          "1995-12-19T00:00:00",
          "1995-12-18T00:00:00",
          "1995-12-13T00:00:00",
          "1995-12-12T00:00:00",
          "1995-12-11T00:00:00",
          "1995-12-08T00:00:00",
          "1995-12-07T00:00:00",
          "1995-12-06T00:00:00",
          "1995-12-05T00:00:00",
          "1995-12-04T00:00:00",
          "1995-11-28T00:00:00",
          "1995-11-09T00:00:00",
          "1995-10-13T00:00:00",
          "1995-10-12T00:00:00",
          "1995-10-09T00:00:00",
          "1995-09-29T00:00:00",
          "1995-09-25T00:00:00",
          "1995-09-22T00:00:00",
          "1995-09-21T00:00:00",
          "1995-09-19T00:00:00",
          "1995-09-18T00:00:00",
          "1995-09-14T00:00:00",
          "1995-09-12T00:00:00",
          "1995-09-07T00:00:00",
          "1995-09-06T00:00:00",
          "1995-09-05T00:00:00",
          "1995-09-04T00:00:00",
          "1995-08-31T00:00:00",
          "1995-08-25T00:00:00",
          "1995-08-24T00:00:00",
          "1995-08-14T00:00:00",
          "1995-08-09T00:00:00",
          "1995-07-25T00:00:00",
          "1995-06-30T00:00:00",
          "1995-06-29T00:00:00",
          "1995-06-28T00:00:00",
          "1995-06-27T00:00:00",
          "1995-06-26T00:00:00",
          "1995-06-23T00:00:00",
          "1995-06-22T00:00:00",
          "1995-06-21T00:00:00",
          "1995-06-20T00:00:00",
          "1995-06-16T00:00:00",
          "1995-06-15T00:00:00",
          "1995-06-14T00:00:00",
          "1995-06-13T00:00:00",
          "1995-06-12T00:00:00",
          "1995-06-08T00:00:00",
          "1995-06-07T00:00:00",
          "1995-06-06T00:00:00",
          "1995-06-05T00:00:00",
          "1995-06-02T00:00:00",
          "1995-06-01T00:00:00",
          "1995-05-31T00:00:00",
          "1995-05-30T00:00:00",
          "1995-05-29T00:00:00",
          "1995-05-26T00:00:00",
          "1995-05-25T00:00:00",
          "1995-05-24T00:00:00",
          "1995-05-23T00:00:00",
          "1995-05-22T00:00:00",
          "1995-05-18T00:00:00",
          "1995-05-17T00:00:00",
          "1995-05-03T00:00:00",
          "1993-09-15T00:00:00",
          "1993-02-16T00:00:00",
          "1993-02-09T00:00:00",
          "1993-02-03T00:00:00",
          "1993-02-02T00:00:00",
          "1993-01-21T00:00:00",
          "1993-01-19T00:00:00",
          "1993-01-18T00:00:00",
          "1993-01-05T00:00:00",
          "1992-12-23T00:00:00",
          "1992-12-22T00:00:00",
          "1992-12-21T00:00:00",
          "1992-12-18T00:00:00",
          "1992-12-17T00:00:00",
          "1992-11-13T00:00:00",
          "1992-11-12T00:00:00",
          "1992-11-05T00:00:00",
          "1992-11-04T00:00:00",
          "1992-10-30T00:00:00",
          "1992-10-22T00:00:00",
          "1992-10-15T00:00:00",
          "1992-10-09T00:00:00",
          "1992-09-28T00:00:00",
          "1992-09-22T00:00:00",
          "1992-09-21T00:00:00",
          "1992-09-15T00:00:00",
          "1992-09-14T00:00:00",
          "1992-09-09T00:00:00",
          "1992-09-08T00:00:00",
          "1992-09-07T00:00:00",
          "1992-09-03T00:00:00",
          "1992-09-02T00:00:00",
          "1992-08-24T00:00:00",
          "1992-08-12T00:00:00",
          "1992-08-11T00:00:00",
          "1992-08-06T00:00:00",
          "1992-08-05T00:00:00",
          "1992-08-04T00:00:00",
          "1992-08-03T00:00:00",
          "1992-07-31T00:00:00",
          "1992-07-30T00:00:00",
          "1992-07-29T00:00:00",
          "1992-07-23T00:00:00",
          "1992-07-21T00:00:00",
          "1992-07-20T00:00:00",
          "1992-06-10T00:00:00",
          "1992-06-09T00:00:00",
          "1992-06-08T00:00:00",
          "1992-06-05T00:00:00",
          "1992-06-04T00:00:00",
          "1992-06-03T00:00:00",
          "1992-06-02T00:00:00",
          "1992-06-01T00:00:00",
          "1992-05-29T00:00:00",
          "1992-05-28T00:00:00",
          "1992-05-27T00:00:00",
          "1992-05-26T00:00:00",
          "1992-05-25T00:00:00",
          "1992-05-22T00:00:00",
          "1992-05-20T00:00:00",
          "1992-05-19T00:00:00",
          "1992-05-18T00:00:00",
          "1992-05-14T00:00:00",
          "1992-05-13T00:00:00",
          "1992-05-12T00:00:00",
          "1992-05-11T00:00:00",
          "1992-05-07T00:00:00",
          "1992-05-06T00:00:00",
          "1992-04-30T00:00:00",
          "1992-04-29T00:00:00",
          "1992-04-28T00:00:00",
          "1992-04-22T00:00:00",
          "1992-04-13T00:00:00",
          "1992-04-10T00:00:00",
          "1992-04-07T00:00:00",
          "1992-03-25T00:00:00",
          "1992-03-20T00:00:00",
          "1992-03-18T00:00:00",
          "1992-03-17T00:00:00",
          "1992-03-16T00:00:00",
          "1992-03-13T00:00:00",
          "1992-03-12T00:00:00",
          "1992-03-11T00:00:00",
          "1992-03-10T00:00:00",
          "1992-02-26T00:00:00",
          "1992-02-24T00:00:00",
          "1992-02-21T00:00:00",
          "1992-02-18T00:00:00",
          "1992-02-13T00:00:00",
          "1992-02-12T00:00:00",
          "1992-02-10T00:00:00",
          "1992-02-07T00:00:00",
          "1992-02-05T00:00:00",
          "1992-02-04T00:00:00",
          "1992-02-03T00:00:00",
          "1992-01-31T00:00:00",
          "1992-01-30T00:00:00",
          "1992-01-29T00:00:00",
          "1992-01-27T00:00:00",
          "1992-01-24T00:00:00",
          "1992-01-23T00:00:00",
          "1992-01-22T00:00:00",
          "1992-01-21T00:00:00",
          "1992-01-20T00:00:00",
          "1992-01-17T00:00:00",
          "1992-01-14T00:00:00",
          "1992-01-13T00:00:00",
          "1992-01-09T00:00:00",
          "1991-12-19T00:00:00",
          "1991-12-18T00:00:00",
          "1991-12-11T00:00:00",
          "1991-12-05T00:00:00",
          "1991-12-03T00:00:00",
          "1991-11-29T00:00:00",
          "1991-11-27T00:00:00",
          "1991-11-20T00:00:00",
          "1991-11-18T00:00:00",
          "1991-11-13T00:00:00",
          "1991-11-12T00:00:00",
          "1991-11-05T00:00:00",
          "1991-11-01T00:00:00",
          "1991-10-31T00:00:00",
          "1991-10-30T00:00:00",
          "1991-10-24T00:00:00",
          "1991-10-23T00:00:00",
          "1991-10-22T00:00:00",
          "1991-10-21T00:00:00",
          "1991-10-18T00:00:00",
          "1991-10-16T00:00:00",
          "1991-10-15T00:00:00",
          "1991-10-14T00:00:00",
          "1991-10-11T00:00:00",
          "1991-10-10T00:00:00",
          "1991-10-09T00:00:00",
          "1991-10-07T00:00:00",
          "1991-10-04T00:00:00",
          "1991-10-03T00:00:00",
          "1991-10-01T00:00:00",
          "1991-09-30T00:00:00",
          "1991-09-27T00:00:00",
          "1991-09-26T00:00:00",
          "1991-09-25T00:00:00",
          "1991-09-24T00:00:00",
          "1991-09-20T00:00:00",
          "1991-09-18T00:00:00",
          "1991-09-17T00:00:00",
          "1991-09-16T00:00:00",
          "1991-09-13T00:00:00",
          "1991-09-10T00:00:00",
          "1991-09-06T00:00:00",
          "1991-09-05T00:00:00",
          "1991-09-04T00:00:00",
          "1991-09-03T00:00:00",
          "1991-08-30T00:00:00",
          "1991-08-28T00:00:00",
          "1991-08-26T00:00:00",
          "1991-08-23T00:00:00",
          "1991-08-22T00:00:00",
          "1991-08-21T00:00:00",
          "1991-08-20T00:00:00",
          "1991-08-19T00:00:00",
          "1991-08-16T00:00:00",
          "1991-08-14T00:00:00",
          "1991-08-13T00:00:00",
          "1991-08-12T00:00:00",
          "1991-08-09T00:00:00",
          "1991-08-08T00:00:00",
          "1991-08-07T00:00:00",
          "1991-08-05T00:00:00",
          "1991-08-02T00:00:00",
          "1991-08-01T00:00:00",
          "1991-07-31T00:00:00",
          "1991-07-30T00:00:00",
          "1991-07-29T00:00:00",
          "1991-07-26T00:00:00",
          "1991-07-25T00:00:00",
          "1991-07-24T00:00:00",
          "1991-07-22T00:00:00",
          "1991-07-19T00:00:00",
          "1991-07-17T00:00:00",
          "1991-07-16T00:00:00",
          "1991-07-15T00:00:00",
          "1991-07-12T00:00:00",
          "1991-07-11T00:00:00",
          "1991-07-10T00:00:00",
          "1991-07-09T00:00:00",
          "1991-07-08T00:00:00",
          "1991-07-05T00:00:00",
          "1991-07-04T00:00:00",
          "1991-07-03T00:00:00",
          "1991-07-02T00:00:00",
          "1991-06-28T00:00:00",
          "1991-06-27T00:00:00",
          "1991-06-26T00:00:00",
          "1991-06-25T00:00:00",
          "1991-06-24T00:00:00",
          "1991-06-20T00:00:00",
          "1991-06-19T00:00:00",
          "1991-06-18T00:00:00",
          "1991-06-17T00:00:00",
          "1991-06-13T00:00:00",
          "1991-06-12T00:00:00",
          "1991-06-11T00:00:00",
          "1991-06-07T00:00:00",
          "1991-06-06T00:00:00",
          "1991-06-05T00:00:00",
          "1991-06-04T00:00:00",
          "1991-06-03T00:00:00",
          "1991-05-31T00:00:00",
          "1991-05-30T00:00:00",
          "1991-05-29T00:00:00",
          "1991-05-27T00:00:00",
          "1991-05-23T00:00:00",
          "1991-05-21T00:00:00",
          "1991-05-20T00:00:00",
          "1991-05-17T00:00:00",
          "1991-05-16T00:00:00",
          "1991-05-14T00:00:00",
          "1991-05-13T00:00:00",
          "1991-05-10T00:00:00",
          "1991-05-09T00:00:00",
          "1991-05-08T00:00:00",
          "1991-05-07T00:00:00",
          "1991-05-06T00:00:00",
          "1991-05-03T00:00:00",
          "1991-04-30T00:00:00",
          "1991-04-29T00:00:00",
          "1991-04-26T00:00:00",
          "1991-04-25T00:00:00",
          "1991-04-24T00:00:00",
          "1991-04-23T00:00:00",
          "1991-04-22T00:00:00",
          "1991-04-19T00:00:00",
          "1991-04-18T00:00:00",
          "1991-04-16T00:00:00",
          "1991-04-15T00:00:00",
          "1991-04-12T00:00:00",
          "1991-04-11T00:00:00",
          "1991-04-09T00:00:00",
          "1991-04-08T00:00:00",
          "1991-04-05T00:00:00",
          "1991-04-04T00:00:00",
          "1991-04-03T00:00:00",
          "1991-04-02T00:00:00",
          "1991-04-01T00:00:00",
          "1991-03-27T00:00:00",
          "1991-03-26T00:00:00",
          "1991-03-25T00:00:00",
          "1991-03-22T00:00:00",
          "1991-03-21T00:00:00",
          "1991-03-20T00:00:00",
          "1991-03-18T00:00:00",
          "1991-03-15T00:00:00",
          "1991-03-13T00:00:00",
          "1991-03-12T00:00:00",
          "1991-03-11T00:00:00",
          "1991-03-08T00:00:00",
          "1991-03-07T00:00:00",
          "1991-03-05T00:00:00",
          "1991-03-04T00:00:00",
          "1991-02-28T00:00:00",
          "1991-02-27T00:00:00",
          "1991-02-26T00:00:00",
          "1991-02-22T00:00:00",
          "1991-02-21T00:00:00",
          "1991-02-20T00:00:00",
          "1991-02-19T00:00:00",
          "1991-02-15T00:00:00",
          "1991-02-14T00:00:00",
          "1991-02-13T00:00:00",
          "1991-02-11T00:00:00",
          "1991-02-08T00:00:00",
          "1991-02-07T00:00:00",
          "1991-02-06T00:00:00",
          "1991-02-05T00:00:00",
          "1991-02-04T00:00:00",
          "1991-02-01T00:00:00",
          "1991-01-31T00:00:00",
          "1991-01-25T00:00:00",
          "1991-01-24T00:00:00",
          "1991-01-23T00:00:00",
          "1991-01-14T00:00:00",
          "1991-01-11T00:00:00",
          "1991-01-09T00:00:00",
          "1991-01-07T00:00:00",
          "1991-01-03T00:00:00"
         ],
         "y": [
          1,
          1.05,
          1,
          1.4,
          1.45,
          1.45,
          1.5,
          1.7,
          1.8,
          1.9,
          2,
          2.1,
          2.3,
          2.5,
          2.6,
          2.9,
          2.9,
          2.9,
          3,
          3,
          3,
          3,
          3.05,
          3.05,
          3.05,
          3,
          3.15,
          3.25,
          3.25,
          3.25,
          3.25,
          3.25,
          3.25,
          3.25,
          3.25,
          3.25,
          3.25,
          3.25,
          3.25,
          3.25,
          3.25,
          3.25,
          3.25,
          3.25,
          3.25,
          3.5,
          3.5,
          3.5,
          3.65,
          3.65,
          3.65,
          3.65,
          3.65,
          3.65,
          3.75,
          3.65,
          3.8,
          3.65,
          3.75,
          3.65,
          4.8,
          5,
          5.5,
          5.5,
          5,
          6,
          6,
          5.95,
          6,
          6,
          6,
          6,
          6,
          6,
          6,
          6,
          6,
          6,
          6,
          6,
          6,
          6,
          6,
          6,
          6,
          6,
          6,
          6,
          6,
          6,
          6,
          6.2,
          6.4,
          6.4,
          6.5,
          7,
          7,
          7.4,
          7.5,
          8.2,
          8,
          8,
          7.5,
          8,
          7,
          5.5,
          7,
          7,
          7,
          8,
          8.5,
          10,
          10,
          8.5,
          8,
          7.5,
          7.75,
          7.75,
          7.75,
          7.75,
          8,
          9,
          10,
          9.25,
          9.25,
          8.5,
          8.75,
          10.5,
          9,
          10,
          9.75,
          9.75,
          11.5,
          11.5,
          12,
          11.25,
          13.75,
          14,
          13,
          15,
          11,
          10.5,
          10.5,
          10.5,
          11,
          10.5,
          10.25,
          10,
          10,
          15,
          16,
          18.5,
          19,
          17.5,
          15.5,
          13.75,
          10,
          8,
          6.5,
          3.75,
          2.5,
          1.5,
          1,
          2.5,
          7.5,
          10,
          10,
          8,
          10,
          11,
          10,
          10,
          12.5,
          12.5,
          12.5,
          12.5,
          11.25,
          11.25,
          10,
          17.5,
          17.5,
          17.5,
          20,
          18.5,
          20,
          17.5,
          22.5,
          17.5,
          20,
          20,
          20,
          20,
          15,
          17.5,
          17.5,
          15,
          15,
          15,
          15,
          15,
          17.5,
          15,
          17.5,
          17.5,
          17.5,
          14,
          15,
          15,
          20,
          20,
          20,
          17.5,
          20,
          20,
          18.75,
          16.25,
          20,
          25,
          20,
          25,
          25,
          25,
          27.5,
          25,
          25,
          25,
          25,
          20,
          20,
          25,
          20,
          35,
          30,
          40,
          50,
          40,
          45,
          32.5,
          30,
          25,
          25,
          25,
          25,
          25,
          25,
          25,
          22.5,
          20,
          17.5,
          20,
          25,
          25,
          25,
          25,
          20,
          25,
          20,
          16.25,
          20,
          20,
          20,
          20,
          17.5,
          17.5,
          17.5,
          20,
          22.5,
          25,
          17,
          17.5,
          15,
          17.5,
          17.5,
          17.5,
          15,
          18,
          17.5,
          15,
          20,
          17.5,
          15,
          15,
          14,
          13,
          14,
          13,
          14,
          14,
          14,
          14,
          15,
          14,
          14,
          15,
          14.5,
          15,
          15,
          15,
          14,
          14,
          15,
          15,
          15,
          15,
          15,
          15,
          15,
          15,
          15,
          14,
          15,
          15,
          15,
          16,
          15,
          15,
          13.5,
          16,
          15,
          17,
          16,
          15,
          16,
          16,
          17,
          16,
          17,
          17,
          16.25,
          15.5,
          16,
          17,
          16,
          17,
          17,
          17,
          16,
          16,
          15,
          15,
          15,
          15,
          15,
          16,
          15,
          15,
          15,
          15,
          15,
          15,
          16,
          15,
          16,
          16,
          17,
          16,
          17,
          15,
          17,
          18,
          18,
          17,
          17.5,
          17,
          20,
          17,
          17.5,
          18,
          19,
          19,
          19,
          20,
          20,
          18.75,
          19,
          17.5,
          17,
          15,
          15,
          12.5,
          13,
          13,
          12,
          12,
          11,
          11.5,
          12,
          12,
          12,
          13,
          13.75,
          13.75,
          13.75,
          13.75,
          15,
          13.75,
          13.75,
          13,
          15,
          15,
          15,
          15,
          13,
          15,
          15,
          15,
          15,
          15,
          15,
          15,
          15,
          15,
          15,
          15,
          15,
          15,
          15,
          15,
          15,
          15,
          15,
          15,
          15,
          15,
          15,
          15,
          15,
          15,
          15,
          15,
          15,
          15,
          15,
          15,
          15,
          15,
          15,
          15,
          12.5,
          15,
          12.5,
          14,
          15,
          15,
          15,
          12.5,
          15,
          15,
          15
         ]
        }
       ],
       "layout": {
        "template": {
         "data": {
          "bar": [
           {
            "error_x": {
             "color": "#2a3f5f"
            },
            "error_y": {
             "color": "#2a3f5f"
            },
            "marker": {
             "line": {
              "color": "#E5ECF6",
              "width": 0.5
             },
             "pattern": {
              "fillmode": "overlay",
              "size": 10,
              "solidity": 0.2
             }
            },
            "type": "bar"
           }
          ],
          "barpolar": [
           {
            "marker": {
             "line": {
              "color": "#E5ECF6",
              "width": 0.5
             },
             "pattern": {
              "fillmode": "overlay",
              "size": 10,
              "solidity": 0.2
             }
            },
            "type": "barpolar"
           }
          ],
          "carpet": [
           {
            "aaxis": {
             "endlinecolor": "#2a3f5f",
             "gridcolor": "white",
             "linecolor": "white",
             "minorgridcolor": "white",
             "startlinecolor": "#2a3f5f"
            },
            "baxis": {
             "endlinecolor": "#2a3f5f",
             "gridcolor": "white",
             "linecolor": "white",
             "minorgridcolor": "white",
             "startlinecolor": "#2a3f5f"
            },
            "type": "carpet"
           }
          ],
          "choropleth": [
           {
            "colorbar": {
             "outlinewidth": 0,
             "ticks": ""
            },
            "type": "choropleth"
           }
          ],
          "contour": [
           {
            "colorbar": {
             "outlinewidth": 0,
             "ticks": ""
            },
            "colorscale": [
             [
              0,
              "#0d0887"
             ],
             [
              0.1111111111111111,
              "#46039f"
             ],
             [
              0.2222222222222222,
              "#7201a8"
             ],
             [
              0.3333333333333333,
              "#9c179e"
             ],
             [
              0.4444444444444444,
              "#bd3786"
             ],
             [
              0.5555555555555556,
              "#d8576b"
             ],
             [
              0.6666666666666666,
              "#ed7953"
             ],
             [
              0.7777777777777778,
              "#fb9f3a"
             ],
             [
              0.8888888888888888,
              "#fdca26"
             ],
             [
              1,
              "#f0f921"
             ]
            ],
            "type": "contour"
           }
          ],
          "contourcarpet": [
           {
            "colorbar": {
             "outlinewidth": 0,
             "ticks": ""
            },
            "type": "contourcarpet"
           }
          ],
          "heatmap": [
           {
            "colorbar": {
             "outlinewidth": 0,
             "ticks": ""
            },
            "colorscale": [
             [
              0,
              "#0d0887"
             ],
             [
              0.1111111111111111,
              "#46039f"
             ],
             [
              0.2222222222222222,
              "#7201a8"
             ],
             [
              0.3333333333333333,
              "#9c179e"
             ],
             [
              0.4444444444444444,
              "#bd3786"
             ],
             [
              0.5555555555555556,
              "#d8576b"
             ],
             [
              0.6666666666666666,
              "#ed7953"
             ],
             [
              0.7777777777777778,
              "#fb9f3a"
             ],
             [
              0.8888888888888888,
              "#fdca26"
             ],
             [
              1,
              "#f0f921"
             ]
            ],
            "type": "heatmap"
           }
          ],
          "heatmapgl": [
           {
            "colorbar": {
             "outlinewidth": 0,
             "ticks": ""
            },
            "colorscale": [
             [
              0,
              "#0d0887"
             ],
             [
              0.1111111111111111,
              "#46039f"
             ],
             [
              0.2222222222222222,
              "#7201a8"
             ],
             [
              0.3333333333333333,
              "#9c179e"
             ],
             [
              0.4444444444444444,
              "#bd3786"
             ],
             [
              0.5555555555555556,
              "#d8576b"
             ],
             [
              0.6666666666666666,
              "#ed7953"
             ],
             [
              0.7777777777777778,
              "#fb9f3a"
             ],
             [
              0.8888888888888888,
              "#fdca26"
             ],
             [
              1,
              "#f0f921"
             ]
            ],
            "type": "heatmapgl"
           }
          ],
          "histogram": [
           {
            "marker": {
             "pattern": {
              "fillmode": "overlay",
              "size": 10,
              "solidity": 0.2
             }
            },
            "type": "histogram"
           }
          ],
          "histogram2d": [
           {
            "colorbar": {
             "outlinewidth": 0,
             "ticks": ""
            },
            "colorscale": [
             [
              0,
              "#0d0887"
             ],
             [
              0.1111111111111111,
              "#46039f"
             ],
             [
              0.2222222222222222,
              "#7201a8"
             ],
             [
              0.3333333333333333,
              "#9c179e"
             ],
             [
              0.4444444444444444,
              "#bd3786"
             ],
             [
              0.5555555555555556,
              "#d8576b"
             ],
             [
              0.6666666666666666,
              "#ed7953"
             ],
             [
              0.7777777777777778,
              "#fb9f3a"
             ],
             [
              0.8888888888888888,
              "#fdca26"
             ],
             [
              1,
              "#f0f921"
             ]
            ],
            "type": "histogram2d"
           }
          ],
          "histogram2dcontour": [
           {
            "colorbar": {
             "outlinewidth": 0,
             "ticks": ""
            },
            "colorscale": [
             [
              0,
              "#0d0887"
             ],
             [
              0.1111111111111111,
              "#46039f"
             ],
             [
              0.2222222222222222,
              "#7201a8"
             ],
             [
              0.3333333333333333,
              "#9c179e"
             ],
             [
              0.4444444444444444,
              "#bd3786"
             ],
             [
              0.5555555555555556,
              "#d8576b"
             ],
             [
              0.6666666666666666,
              "#ed7953"
             ],
             [
              0.7777777777777778,
              "#fb9f3a"
             ],
             [
              0.8888888888888888,
              "#fdca26"
             ],
             [
              1,
              "#f0f921"
             ]
            ],
            "type": "histogram2dcontour"
           }
          ],
          "mesh3d": [
           {
            "colorbar": {
             "outlinewidth": 0,
             "ticks": ""
            },
            "type": "mesh3d"
           }
          ],
          "parcoords": [
           {
            "line": {
             "colorbar": {
              "outlinewidth": 0,
              "ticks": ""
             }
            },
            "type": "parcoords"
           }
          ],
          "pie": [
           {
            "automargin": true,
            "type": "pie"
           }
          ],
          "scatter": [
           {
            "fillpattern": {
             "fillmode": "overlay",
             "size": 10,
             "solidity": 0.2
            },
            "type": "scatter"
           }
          ],
          "scatter3d": [
           {
            "line": {
             "colorbar": {
              "outlinewidth": 0,
              "ticks": ""
             }
            },
            "marker": {
             "colorbar": {
              "outlinewidth": 0,
              "ticks": ""
             }
            },
            "type": "scatter3d"
           }
          ],
          "scattercarpet": [
           {
            "marker": {
             "colorbar": {
              "outlinewidth": 0,
              "ticks": ""
             }
            },
            "type": "scattercarpet"
           }
          ],
          "scattergeo": [
           {
            "marker": {
             "colorbar": {
              "outlinewidth": 0,
              "ticks": ""
             }
            },
            "type": "scattergeo"
           }
          ],
          "scattergl": [
           {
            "marker": {
             "colorbar": {
              "outlinewidth": 0,
              "ticks": ""
             }
            },
            "type": "scattergl"
           }
          ],
          "scattermapbox": [
           {
            "marker": {
             "colorbar": {
              "outlinewidth": 0,
              "ticks": ""
             }
            },
            "type": "scattermapbox"
           }
          ],
          "scatterpolar": [
           {
            "marker": {
             "colorbar": {
              "outlinewidth": 0,
              "ticks": ""
             }
            },
            "type": "scatterpolar"
           }
          ],
          "scatterpolargl": [
           {
            "marker": {
             "colorbar": {
              "outlinewidth": 0,
              "ticks": ""
             }
            },
            "type": "scatterpolargl"
           }
          ],
          "scatterternary": [
           {
            "marker": {
             "colorbar": {
              "outlinewidth": 0,
              "ticks": ""
             }
            },
            "type": "scatterternary"
           }
          ],
          "surface": [
           {
            "colorbar": {
             "outlinewidth": 0,
             "ticks": ""
            },
            "colorscale": [
             [
              0,
              "#0d0887"
             ],
             [
              0.1111111111111111,
              "#46039f"
             ],
             [
              0.2222222222222222,
              "#7201a8"
             ],
             [
              0.3333333333333333,
              "#9c179e"
             ],
             [
              0.4444444444444444,
              "#bd3786"
             ],
             [
              0.5555555555555556,
              "#d8576b"
             ],
             [
              0.6666666666666666,
              "#ed7953"
             ],
             [
              0.7777777777777778,
              "#fb9f3a"
             ],
             [
              0.8888888888888888,
              "#fdca26"
             ],
             [
              1,
              "#f0f921"
             ]
            ],
            "type": "surface"
           }
          ],
          "table": [
           {
            "cells": {
             "fill": {
              "color": "#EBF0F8"
             },
             "line": {
              "color": "white"
             }
            },
            "header": {
             "fill": {
              "color": "#C8D4E3"
             },
             "line": {
              "color": "white"
             }
            },
            "type": "table"
           }
          ]
         },
         "layout": {
          "annotationdefaults": {
           "arrowcolor": "#2a3f5f",
           "arrowhead": 0,
           "arrowwidth": 1
          },
          "autotypenumbers": "strict",
          "coloraxis": {
           "colorbar": {
            "outlinewidth": 0,
            "ticks": ""
           }
          },
          "colorscale": {
           "diverging": [
            [
             0,
             "#8e0152"
            ],
            [
             0.1,
             "#c51b7d"
            ],
            [
             0.2,
             "#de77ae"
            ],
            [
             0.3,
             "#f1b6da"
            ],
            [
             0.4,
             "#fde0ef"
            ],
            [
             0.5,
             "#f7f7f7"
            ],
            [
             0.6,
             "#e6f5d0"
            ],
            [
             0.7,
             "#b8e186"
            ],
            [
             0.8,
             "#7fbc41"
            ],
            [
             0.9,
             "#4d9221"
            ],
            [
             1,
             "#276419"
            ]
           ],
           "sequential": [
            [
             0,
             "#0d0887"
            ],
            [
             0.1111111111111111,
             "#46039f"
            ],
            [
             0.2222222222222222,
             "#7201a8"
            ],
            [
             0.3333333333333333,
             "#9c179e"
            ],
            [
             0.4444444444444444,
             "#bd3786"
            ],
            [
             0.5555555555555556,
             "#d8576b"
            ],
            [
             0.6666666666666666,
             "#ed7953"
            ],
            [
             0.7777777777777778,
             "#fb9f3a"
            ],
            [
             0.8888888888888888,
             "#fdca26"
            ],
            [
             1,
             "#f0f921"
            ]
           ],
           "sequentialminus": [
            [
             0,
             "#0d0887"
            ],
            [
             0.1111111111111111,
             "#46039f"
            ],
            [
             0.2222222222222222,
             "#7201a8"
            ],
            [
             0.3333333333333333,
             "#9c179e"
            ],
            [
             0.4444444444444444,
             "#bd3786"
            ],
            [
             0.5555555555555556,
             "#d8576b"
            ],
            [
             0.6666666666666666,
             "#ed7953"
            ],
            [
             0.7777777777777778,
             "#fb9f3a"
            ],
            [
             0.8888888888888888,
             "#fdca26"
            ],
            [
             1,
             "#f0f921"
            ]
           ]
          },
          "colorway": [
           "#636efa",
           "#EF553B",
           "#00cc96",
           "#ab63fa",
           "#FFA15A",
           "#19d3f3",
           "#FF6692",
           "#B6E880",
           "#FF97FF",
           "#FECB52"
          ],
          "font": {
           "color": "#2a3f5f"
          },
          "geo": {
           "bgcolor": "white",
           "lakecolor": "white",
           "landcolor": "#E5ECF6",
           "showlakes": true,
           "showland": true,
           "subunitcolor": "white"
          },
          "hoverlabel": {
           "align": "left"
          },
          "hovermode": "closest",
          "mapbox": {
           "style": "light"
          },
          "paper_bgcolor": "white",
          "plot_bgcolor": "#E5ECF6",
          "polar": {
           "angularaxis": {
            "gridcolor": "white",
            "linecolor": "white",
            "ticks": ""
           },
           "bgcolor": "#E5ECF6",
           "radialaxis": {
            "gridcolor": "white",
            "linecolor": "white",
            "ticks": ""
           }
          },
          "scene": {
           "xaxis": {
            "backgroundcolor": "#E5ECF6",
            "gridcolor": "white",
            "gridwidth": 2,
            "linecolor": "white",
            "showbackground": true,
            "ticks": "",
            "zerolinecolor": "white"
           },
           "yaxis": {
            "backgroundcolor": "#E5ECF6",
            "gridcolor": "white",
            "gridwidth": 2,
            "linecolor": "white",
            "showbackground": true,
            "ticks": "",
            "zerolinecolor": "white"
           },
           "zaxis": {
            "backgroundcolor": "#E5ECF6",
            "gridcolor": "white",
            "gridwidth": 2,
            "linecolor": "white",
            "showbackground": true,
            "ticks": "",
            "zerolinecolor": "white"
           }
          },
          "shapedefaults": {
           "line": {
            "color": "#2a3f5f"
           }
          },
          "ternary": {
           "aaxis": {
            "gridcolor": "white",
            "linecolor": "white",
            "ticks": ""
           },
           "baxis": {
            "gridcolor": "white",
            "linecolor": "white",
            "ticks": ""
           },
           "bgcolor": "#E5ECF6",
           "caxis": {
            "gridcolor": "white",
            "linecolor": "white",
            "ticks": ""
           }
          },
          "title": {
           "x": 0.05
          },
          "xaxis": {
           "automargin": true,
           "gridcolor": "white",
           "linecolor": "white",
           "ticks": "",
           "title": {
            "standoff": 15
           },
           "zerolinecolor": "white",
           "zerolinewidth": 2
          },
          "yaxis": {
           "automargin": true,
           "gridcolor": "white",
           "linecolor": "white",
           "ticks": "",
           "title": {
            "standoff": 15
           },
           "zerolinecolor": "white",
           "zerolinewidth": 2
          }
         }
        },
        "title": {
         "text": "Stock Prices of Bombay Iron & Steel"
        },
        "xaxis": {
         "title": {
          "font": {
           "size": 14
          },
          "text": "Date"
         }
        },
        "yaxis": {
         "title": {
          "font": {
           "size": 14
          },
          "text": "Price"
         }
        }
       }
      },
      "text/html": [
       "<div>                            <div id=\"c4132268-951e-4636-b5f6-34714c56267f\" class=\"plotly-graph-div\" style=\"height:525px; width:100%;\"></div>            <script type=\"text/javascript\">                require([\"plotly\"], function(Plotly) {                    window.PLOTLYENV=window.PLOTLYENV || {};                                    if (document.getElementById(\"c4132268-951e-4636-b5f6-34714c56267f\")) {                    Plotly.newPlot(                        \"c4132268-951e-4636-b5f6-34714c56267f\",                        [{\"x\":[\"2009-10-05T00:00:00\",\"2000-02-01T00:00:00\",\"1999-12-27T00:00:00\",\"1999-09-03T00:00:00\",\"1999-08-13T00:00:00\",\"1999-07-29T00:00:00\",\"1999-06-11T00:00:00\",\"1999-06-09T00:00:00\",\"1999-05-05T00:00:00\",\"1999-04-12T00:00:00\",\"1998-09-21T00:00:00\",\"1998-09-18T00:00:00\",\"1998-03-17T00:00:00\",\"1998-03-12T00:00:00\",\"1998-02-05T00:00:00\",\"1997-12-23T00:00:00\",\"1997-11-26T00:00:00\",\"1997-11-20T00:00:00\",\"1997-09-29T00:00:00\",\"1997-09-22T00:00:00\",\"1997-09-19T00:00:00\",\"1997-08-28T00:00:00\",\"1997-08-22T00:00:00\",\"1997-08-11T00:00:00\",\"1997-07-16T00:00:00\",\"1997-07-15T00:00:00\",\"1997-07-11T00:00:00\",\"1997-06-04T00:00:00\",\"1997-06-02T00:00:00\",\"1997-05-27T00:00:00\",\"1997-05-22T00:00:00\",\"1997-05-20T00:00:00\",\"1997-05-15T00:00:00\",\"1997-05-13T00:00:00\",\"1997-05-06T00:00:00\",\"1997-04-15T00:00:00\",\"1997-03-20T00:00:00\",\"1997-03-17T00:00:00\",\"1997-03-10T00:00:00\",\"1997-03-04T00:00:00\",\"1997-02-10T00:00:00\",\"1997-01-31T00:00:00\",\"1997-01-28T00:00:00\",\"1997-01-27T00:00:00\",\"1997-01-10T00:00:00\",\"1997-01-09T00:00:00\",\"1997-01-07T00:00:00\",\"1996-12-13T00:00:00\",\"1996-11-29T00:00:00\",\"1996-11-27T00:00:00\",\"1996-11-14T00:00:00\",\"1996-11-01T00:00:00\",\"1996-10-31T00:00:00\",\"1996-10-24T00:00:00\",\"1996-10-18T00:00:00\",\"1996-10-17T00:00:00\",\"1996-10-14T00:00:00\",\"1996-10-11T00:00:00\",\"1996-10-03T00:00:00\",\"1996-09-30T00:00:00\",\"1996-09-06T00:00:00\",\"1996-08-30T00:00:00\",\"1996-08-05T00:00:00\",\"1996-08-02T00:00:00\",\"1996-07-30T00:00:00\",\"1996-07-25T00:00:00\",\"1996-07-23T00:00:00\",\"1996-07-19T00:00:00\",\"1996-06-21T00:00:00\",\"1996-06-19T00:00:00\",\"1996-06-17T00:00:00\",\"1996-06-11T00:00:00\",\"1996-06-10T00:00:00\",\"1996-06-07T00:00:00\",\"1996-05-28T00:00:00\",\"1996-05-27T00:00:00\",\"1996-05-24T00:00:00\",\"1996-05-23T00:00:00\",\"1996-05-22T00:00:00\",\"1996-04-08T00:00:00\",\"1996-03-18T00:00:00\",\"1996-03-15T00:00:00\",\"1996-03-12T00:00:00\",\"1996-02-06T00:00:00\",\"1996-02-01T00:00:00\",\"1996-01-31T00:00:00\",\"1996-01-30T00:00:00\",\"1996-01-29T00:00:00\",\"1996-01-23T00:00:00\",\"1996-01-22T00:00:00\",\"1996-01-19T00:00:00\",\"1996-01-17T00:00:00\",\"1996-01-05T00:00:00\",\"1996-01-04T00:00:00\",\"1996-01-03T00:00:00\",\"1996-01-01T00:00:00\",\"1995-12-22T00:00:00\",\"1995-12-21T00:00:00\",\"1995-12-20T00:00:00\",\"1995-12-19T00:00:00\",\"1995-12-18T00:00:00\",\"1995-12-13T00:00:00\",\"1995-12-12T00:00:00\",\"1995-12-11T00:00:00\",\"1995-12-08T00:00:00\",\"1995-12-07T00:00:00\",\"1995-12-06T00:00:00\",\"1995-12-05T00:00:00\",\"1995-12-04T00:00:00\",\"1995-11-28T00:00:00\",\"1995-11-09T00:00:00\",\"1995-10-13T00:00:00\",\"1995-10-12T00:00:00\",\"1995-10-09T00:00:00\",\"1995-09-29T00:00:00\",\"1995-09-25T00:00:00\",\"1995-09-22T00:00:00\",\"1995-09-21T00:00:00\",\"1995-09-19T00:00:00\",\"1995-09-18T00:00:00\",\"1995-09-14T00:00:00\",\"1995-09-12T00:00:00\",\"1995-09-07T00:00:00\",\"1995-09-06T00:00:00\",\"1995-09-05T00:00:00\",\"1995-09-04T00:00:00\",\"1995-08-31T00:00:00\",\"1995-08-25T00:00:00\",\"1995-08-24T00:00:00\",\"1995-08-14T00:00:00\",\"1995-08-09T00:00:00\",\"1995-07-25T00:00:00\",\"1995-06-30T00:00:00\",\"1995-06-29T00:00:00\",\"1995-06-28T00:00:00\",\"1995-06-27T00:00:00\",\"1995-06-26T00:00:00\",\"1995-06-23T00:00:00\",\"1995-06-22T00:00:00\",\"1995-06-21T00:00:00\",\"1995-06-20T00:00:00\",\"1995-06-16T00:00:00\",\"1995-06-15T00:00:00\",\"1995-06-14T00:00:00\",\"1995-06-13T00:00:00\",\"1995-06-12T00:00:00\",\"1995-06-08T00:00:00\",\"1995-06-07T00:00:00\",\"1995-06-06T00:00:00\",\"1995-06-05T00:00:00\",\"1995-06-02T00:00:00\",\"1995-06-01T00:00:00\",\"1995-05-31T00:00:00\",\"1995-05-30T00:00:00\",\"1995-05-29T00:00:00\",\"1995-05-26T00:00:00\",\"1995-05-25T00:00:00\",\"1995-05-24T00:00:00\",\"1995-05-23T00:00:00\",\"1995-05-22T00:00:00\",\"1995-05-18T00:00:00\",\"1995-05-17T00:00:00\",\"1995-05-03T00:00:00\",\"1993-09-15T00:00:00\",\"1993-02-16T00:00:00\",\"1993-02-09T00:00:00\",\"1993-02-03T00:00:00\",\"1993-02-02T00:00:00\",\"1993-01-21T00:00:00\",\"1993-01-19T00:00:00\",\"1993-01-18T00:00:00\",\"1993-01-05T00:00:00\",\"1992-12-23T00:00:00\",\"1992-12-22T00:00:00\",\"1992-12-21T00:00:00\",\"1992-12-18T00:00:00\",\"1992-12-17T00:00:00\",\"1992-11-13T00:00:00\",\"1992-11-12T00:00:00\",\"1992-11-05T00:00:00\",\"1992-11-04T00:00:00\",\"1992-10-30T00:00:00\",\"1992-10-22T00:00:00\",\"1992-10-15T00:00:00\",\"1992-10-09T00:00:00\",\"1992-09-28T00:00:00\",\"1992-09-22T00:00:00\",\"1992-09-21T00:00:00\",\"1992-09-15T00:00:00\",\"1992-09-14T00:00:00\",\"1992-09-09T00:00:00\",\"1992-09-08T00:00:00\",\"1992-09-07T00:00:00\",\"1992-09-03T00:00:00\",\"1992-09-02T00:00:00\",\"1992-08-24T00:00:00\",\"1992-08-12T00:00:00\",\"1992-08-11T00:00:00\",\"1992-08-06T00:00:00\",\"1992-08-05T00:00:00\",\"1992-08-04T00:00:00\",\"1992-08-03T00:00:00\",\"1992-07-31T00:00:00\",\"1992-07-30T00:00:00\",\"1992-07-29T00:00:00\",\"1992-07-23T00:00:00\",\"1992-07-21T00:00:00\",\"1992-07-20T00:00:00\",\"1992-06-10T00:00:00\",\"1992-06-09T00:00:00\",\"1992-06-08T00:00:00\",\"1992-06-05T00:00:00\",\"1992-06-04T00:00:00\",\"1992-06-03T00:00:00\",\"1992-06-02T00:00:00\",\"1992-06-01T00:00:00\",\"1992-05-29T00:00:00\",\"1992-05-28T00:00:00\",\"1992-05-27T00:00:00\",\"1992-05-26T00:00:00\",\"1992-05-25T00:00:00\",\"1992-05-22T00:00:00\",\"1992-05-20T00:00:00\",\"1992-05-19T00:00:00\",\"1992-05-18T00:00:00\",\"1992-05-14T00:00:00\",\"1992-05-13T00:00:00\",\"1992-05-12T00:00:00\",\"1992-05-11T00:00:00\",\"1992-05-07T00:00:00\",\"1992-05-06T00:00:00\",\"1992-04-30T00:00:00\",\"1992-04-29T00:00:00\",\"1992-04-28T00:00:00\",\"1992-04-22T00:00:00\",\"1992-04-13T00:00:00\",\"1992-04-10T00:00:00\",\"1992-04-07T00:00:00\",\"1992-03-25T00:00:00\",\"1992-03-20T00:00:00\",\"1992-03-18T00:00:00\",\"1992-03-17T00:00:00\",\"1992-03-16T00:00:00\",\"1992-03-13T00:00:00\",\"1992-03-12T00:00:00\",\"1992-03-11T00:00:00\",\"1992-03-10T00:00:00\",\"1992-02-26T00:00:00\",\"1992-02-24T00:00:00\",\"1992-02-21T00:00:00\",\"1992-02-18T00:00:00\",\"1992-02-13T00:00:00\",\"1992-02-12T00:00:00\",\"1992-02-10T00:00:00\",\"1992-02-07T00:00:00\",\"1992-02-05T00:00:00\",\"1992-02-04T00:00:00\",\"1992-02-03T00:00:00\",\"1992-01-31T00:00:00\",\"1992-01-30T00:00:00\",\"1992-01-29T00:00:00\",\"1992-01-27T00:00:00\",\"1992-01-24T00:00:00\",\"1992-01-23T00:00:00\",\"1992-01-22T00:00:00\",\"1992-01-21T00:00:00\",\"1992-01-20T00:00:00\",\"1992-01-17T00:00:00\",\"1992-01-14T00:00:00\",\"1992-01-13T00:00:00\",\"1992-01-09T00:00:00\",\"1991-12-19T00:00:00\",\"1991-12-18T00:00:00\",\"1991-12-11T00:00:00\",\"1991-12-05T00:00:00\",\"1991-12-03T00:00:00\",\"1991-11-29T00:00:00\",\"1991-11-27T00:00:00\",\"1991-11-20T00:00:00\",\"1991-11-18T00:00:00\",\"1991-11-13T00:00:00\",\"1991-11-12T00:00:00\",\"1991-11-05T00:00:00\",\"1991-11-01T00:00:00\",\"1991-10-31T00:00:00\",\"1991-10-30T00:00:00\",\"1991-10-24T00:00:00\",\"1991-10-23T00:00:00\",\"1991-10-22T00:00:00\",\"1991-10-21T00:00:00\",\"1991-10-18T00:00:00\",\"1991-10-16T00:00:00\",\"1991-10-15T00:00:00\",\"1991-10-14T00:00:00\",\"1991-10-11T00:00:00\",\"1991-10-10T00:00:00\",\"1991-10-09T00:00:00\",\"1991-10-07T00:00:00\",\"1991-10-04T00:00:00\",\"1991-10-03T00:00:00\",\"1991-10-01T00:00:00\",\"1991-09-30T00:00:00\",\"1991-09-27T00:00:00\",\"1991-09-26T00:00:00\",\"1991-09-25T00:00:00\",\"1991-09-24T00:00:00\",\"1991-09-20T00:00:00\",\"1991-09-18T00:00:00\",\"1991-09-17T00:00:00\",\"1991-09-16T00:00:00\",\"1991-09-13T00:00:00\",\"1991-09-10T00:00:00\",\"1991-09-06T00:00:00\",\"1991-09-05T00:00:00\",\"1991-09-04T00:00:00\",\"1991-09-03T00:00:00\",\"1991-08-30T00:00:00\",\"1991-08-28T00:00:00\",\"1991-08-26T00:00:00\",\"1991-08-23T00:00:00\",\"1991-08-22T00:00:00\",\"1991-08-21T00:00:00\",\"1991-08-20T00:00:00\",\"1991-08-19T00:00:00\",\"1991-08-16T00:00:00\",\"1991-08-14T00:00:00\",\"1991-08-13T00:00:00\",\"1991-08-12T00:00:00\",\"1991-08-09T00:00:00\",\"1991-08-08T00:00:00\",\"1991-08-07T00:00:00\",\"1991-08-05T00:00:00\",\"1991-08-02T00:00:00\",\"1991-08-01T00:00:00\",\"1991-07-31T00:00:00\",\"1991-07-30T00:00:00\",\"1991-07-29T00:00:00\",\"1991-07-26T00:00:00\",\"1991-07-25T00:00:00\",\"1991-07-24T00:00:00\",\"1991-07-22T00:00:00\",\"1991-07-19T00:00:00\",\"1991-07-17T00:00:00\",\"1991-07-16T00:00:00\",\"1991-07-15T00:00:00\",\"1991-07-12T00:00:00\",\"1991-07-11T00:00:00\",\"1991-07-10T00:00:00\",\"1991-07-09T00:00:00\",\"1991-07-08T00:00:00\",\"1991-07-05T00:00:00\",\"1991-07-04T00:00:00\",\"1991-07-03T00:00:00\",\"1991-07-02T00:00:00\",\"1991-06-28T00:00:00\",\"1991-06-27T00:00:00\",\"1991-06-26T00:00:00\",\"1991-06-25T00:00:00\",\"1991-06-24T00:00:00\",\"1991-06-20T00:00:00\",\"1991-06-19T00:00:00\",\"1991-06-18T00:00:00\",\"1991-06-17T00:00:00\",\"1991-06-13T00:00:00\",\"1991-06-12T00:00:00\",\"1991-06-11T00:00:00\",\"1991-06-07T00:00:00\",\"1991-06-06T00:00:00\",\"1991-06-05T00:00:00\",\"1991-06-04T00:00:00\",\"1991-06-03T00:00:00\",\"1991-05-31T00:00:00\",\"1991-05-30T00:00:00\",\"1991-05-29T00:00:00\",\"1991-05-27T00:00:00\",\"1991-05-23T00:00:00\",\"1991-05-21T00:00:00\",\"1991-05-20T00:00:00\",\"1991-05-17T00:00:00\",\"1991-05-16T00:00:00\",\"1991-05-14T00:00:00\",\"1991-05-13T00:00:00\",\"1991-05-10T00:00:00\",\"1991-05-09T00:00:00\",\"1991-05-08T00:00:00\",\"1991-05-07T00:00:00\",\"1991-05-06T00:00:00\",\"1991-05-03T00:00:00\",\"1991-04-30T00:00:00\",\"1991-04-29T00:00:00\",\"1991-04-26T00:00:00\",\"1991-04-25T00:00:00\",\"1991-04-24T00:00:00\",\"1991-04-23T00:00:00\",\"1991-04-22T00:00:00\",\"1991-04-19T00:00:00\",\"1991-04-18T00:00:00\",\"1991-04-16T00:00:00\",\"1991-04-15T00:00:00\",\"1991-04-12T00:00:00\",\"1991-04-11T00:00:00\",\"1991-04-09T00:00:00\",\"1991-04-08T00:00:00\",\"1991-04-05T00:00:00\",\"1991-04-04T00:00:00\",\"1991-04-03T00:00:00\",\"1991-04-02T00:00:00\",\"1991-04-01T00:00:00\",\"1991-03-27T00:00:00\",\"1991-03-26T00:00:00\",\"1991-03-25T00:00:00\",\"1991-03-22T00:00:00\",\"1991-03-21T00:00:00\",\"1991-03-20T00:00:00\",\"1991-03-18T00:00:00\",\"1991-03-15T00:00:00\",\"1991-03-13T00:00:00\",\"1991-03-12T00:00:00\",\"1991-03-11T00:00:00\",\"1991-03-08T00:00:00\",\"1991-03-07T00:00:00\",\"1991-03-05T00:00:00\",\"1991-03-04T00:00:00\",\"1991-02-28T00:00:00\",\"1991-02-27T00:00:00\",\"1991-02-26T00:00:00\",\"1991-02-22T00:00:00\",\"1991-02-21T00:00:00\",\"1991-02-20T00:00:00\",\"1991-02-19T00:00:00\",\"1991-02-15T00:00:00\",\"1991-02-14T00:00:00\",\"1991-02-13T00:00:00\",\"1991-02-11T00:00:00\",\"1991-02-08T00:00:00\",\"1991-02-07T00:00:00\",\"1991-02-06T00:00:00\",\"1991-02-05T00:00:00\",\"1991-02-04T00:00:00\",\"1991-02-01T00:00:00\",\"1991-01-31T00:00:00\",\"1991-01-25T00:00:00\",\"1991-01-24T00:00:00\",\"1991-01-23T00:00:00\",\"1991-01-14T00:00:00\",\"1991-01-11T00:00:00\",\"1991-01-09T00:00:00\",\"1991-01-07T00:00:00\",\"1991-01-03T00:00:00\"],\"y\":[1.0,1.05,1.0,1.4,1.45,1.45,1.5,1.7,1.8,1.9,2.0,2.1,2.3,2.5,2.6,2.9,2.9,2.9,3.0,3.0,3.0,3.0,3.05,3.05,3.05,3.0,3.15,3.25,3.25,3.25,3.25,3.25,3.25,3.25,3.25,3.25,3.25,3.25,3.25,3.25,3.25,3.25,3.25,3.25,3.25,3.5,3.5,3.5,3.65,3.65,3.65,3.65,3.65,3.65,3.75,3.65,3.8,3.65,3.75,3.65,4.8,5.0,5.5,5.5,5.0,6.0,6.0,5.95,6.0,6.0,6.0,6.0,6.0,6.0,6.0,6.0,6.0,6.0,6.0,6.0,6.0,6.0,6.0,6.0,6.0,6.0,6.0,6.0,6.0,6.0,6.0,6.2,6.4,6.4,6.5,7.0,7.0,7.4,7.5,8.2,8.0,8.0,7.5,8.0,7.0,5.5,7.0,7.0,7.0,8.0,8.5,10.0,10.0,8.5,8.0,7.5,7.75,7.75,7.75,7.75,8.0,9.0,10.0,9.25,9.25,8.5,8.75,10.5,9.0,10.0,9.75,9.75,11.5,11.5,12.0,11.25,13.75,14.0,13.0,15.0,11.0,10.5,10.5,10.5,11.0,10.5,10.25,10.0,10.0,15.0,16.0,18.5,19.0,17.5,15.5,13.75,10.0,8.0,6.5,3.75,2.5,1.5,1.0,2.5,7.5,10.0,10.0,8.0,10.0,11.0,10.0,10.0,12.5,12.5,12.5,12.5,11.25,11.25,10.0,17.5,17.5,17.5,20.0,18.5,20.0,17.5,22.5,17.5,20.0,20.0,20.0,20.0,15.0,17.5,17.5,15.0,15.0,15.0,15.0,15.0,17.5,15.0,17.5,17.5,17.5,14.0,15.0,15.0,20.0,20.0,20.0,17.5,20.0,20.0,18.75,16.25,20.0,25.0,20.0,25.0,25.0,25.0,27.5,25.0,25.0,25.0,25.0,20.0,20.0,25.0,20.0,35.0,30.0,40.0,50.0,40.0,45.0,32.5,30.0,25.0,25.0,25.0,25.0,25.0,25.0,25.0,22.5,20.0,17.5,20.0,25.0,25.0,25.0,25.0,20.0,25.0,20.0,16.25,20.0,20.0,20.0,20.0,17.5,17.5,17.5,20.0,22.5,25.0,17.0,17.5,15.0,17.5,17.5,17.5,15.0,18.0,17.5,15.0,20.0,17.5,15.0,15.0,14.0,13.0,14.0,13.0,14.0,14.0,14.0,14.0,15.0,14.0,14.0,15.0,14.5,15.0,15.0,15.0,14.0,14.0,15.0,15.0,15.0,15.0,15.0,15.0,15.0,15.0,15.0,14.0,15.0,15.0,15.0,16.0,15.0,15.0,13.5,16.0,15.0,17.0,16.0,15.0,16.0,16.0,17.0,16.0,17.0,17.0,16.25,15.5,16.0,17.0,16.0,17.0,17.0,17.0,16.0,16.0,15.0,15.0,15.0,15.0,15.0,16.0,15.0,15.0,15.0,15.0,15.0,15.0,16.0,15.0,16.0,16.0,17.0,16.0,17.0,15.0,17.0,18.0,18.0,17.0,17.5,17.0,20.0,17.0,17.5,18.0,19.0,19.0,19.0,20.0,20.0,18.75,19.0,17.5,17.0,15.0,15.0,12.5,13.0,13.0,12.0,12.0,11.0,11.5,12.0,12.0,12.0,13.0,13.75,13.75,13.75,13.75,15.0,13.75,13.75,13.0,15.0,15.0,15.0,15.0,13.0,15.0,15.0,15.0,15.0,15.0,15.0,15.0,15.0,15.0,15.0,15.0,15.0,15.0,15.0,15.0,15.0,15.0,15.0,15.0,15.0,15.0,15.0,15.0,15.0,15.0,15.0,15.0,15.0,15.0,15.0,15.0,15.0,15.0,15.0,15.0,12.5,15.0,12.5,14.0,15.0,15.0,15.0,12.5,15.0,15.0,15.0],\"type\":\"scatter\"}],                        {\"template\":{\"data\":{\"barpolar\":[{\"marker\":{\"line\":{\"color\":\"#E5ECF6\",\"width\":0.5},\"pattern\":{\"fillmode\":\"overlay\",\"size\":10,\"solidity\":0.2}},\"type\":\"barpolar\"}],\"bar\":[{\"error_x\":{\"color\":\"#2a3f5f\"},\"error_y\":{\"color\":\"#2a3f5f\"},\"marker\":{\"line\":{\"color\":\"#E5ECF6\",\"width\":0.5},\"pattern\":{\"fillmode\":\"overlay\",\"size\":10,\"solidity\":0.2}},\"type\":\"bar\"}],\"carpet\":[{\"aaxis\":{\"endlinecolor\":\"#2a3f5f\",\"gridcolor\":\"white\",\"linecolor\":\"white\",\"minorgridcolor\":\"white\",\"startlinecolor\":\"#2a3f5f\"},\"baxis\":{\"endlinecolor\":\"#2a3f5f\",\"gridcolor\":\"white\",\"linecolor\":\"white\",\"minorgridcolor\":\"white\",\"startlinecolor\":\"#2a3f5f\"},\"type\":\"carpet\"}],\"choropleth\":[{\"colorbar\":{\"outlinewidth\":0,\"ticks\":\"\"},\"type\":\"choropleth\"}],\"contourcarpet\":[{\"colorbar\":{\"outlinewidth\":0,\"ticks\":\"\"},\"type\":\"contourcarpet\"}],\"contour\":[{\"colorbar\":{\"outlinewidth\":0,\"ticks\":\"\"},\"colorscale\":[[0.0,\"#0d0887\"],[0.1111111111111111,\"#46039f\"],[0.2222222222222222,\"#7201a8\"],[0.3333333333333333,\"#9c179e\"],[0.4444444444444444,\"#bd3786\"],[0.5555555555555556,\"#d8576b\"],[0.6666666666666666,\"#ed7953\"],[0.7777777777777778,\"#fb9f3a\"],[0.8888888888888888,\"#fdca26\"],[1.0,\"#f0f921\"]],\"type\":\"contour\"}],\"heatmapgl\":[{\"colorbar\":{\"outlinewidth\":0,\"ticks\":\"\"},\"colorscale\":[[0.0,\"#0d0887\"],[0.1111111111111111,\"#46039f\"],[0.2222222222222222,\"#7201a8\"],[0.3333333333333333,\"#9c179e\"],[0.4444444444444444,\"#bd3786\"],[0.5555555555555556,\"#d8576b\"],[0.6666666666666666,\"#ed7953\"],[0.7777777777777778,\"#fb9f3a\"],[0.8888888888888888,\"#fdca26\"],[1.0,\"#f0f921\"]],\"type\":\"heatmapgl\"}],\"heatmap\":[{\"colorbar\":{\"outlinewidth\":0,\"ticks\":\"\"},\"colorscale\":[[0.0,\"#0d0887\"],[0.1111111111111111,\"#46039f\"],[0.2222222222222222,\"#7201a8\"],[0.3333333333333333,\"#9c179e\"],[0.4444444444444444,\"#bd3786\"],[0.5555555555555556,\"#d8576b\"],[0.6666666666666666,\"#ed7953\"],[0.7777777777777778,\"#fb9f3a\"],[0.8888888888888888,\"#fdca26\"],[1.0,\"#f0f921\"]],\"type\":\"heatmap\"}],\"histogram2dcontour\":[{\"colorbar\":{\"outlinewidth\":0,\"ticks\":\"\"},\"colorscale\":[[0.0,\"#0d0887\"],[0.1111111111111111,\"#46039f\"],[0.2222222222222222,\"#7201a8\"],[0.3333333333333333,\"#9c179e\"],[0.4444444444444444,\"#bd3786\"],[0.5555555555555556,\"#d8576b\"],[0.6666666666666666,\"#ed7953\"],[0.7777777777777778,\"#fb9f3a\"],[0.8888888888888888,\"#fdca26\"],[1.0,\"#f0f921\"]],\"type\":\"histogram2dcontour\"}],\"histogram2d\":[{\"colorbar\":{\"outlinewidth\":0,\"ticks\":\"\"},\"colorscale\":[[0.0,\"#0d0887\"],[0.1111111111111111,\"#46039f\"],[0.2222222222222222,\"#7201a8\"],[0.3333333333333333,\"#9c179e\"],[0.4444444444444444,\"#bd3786\"],[0.5555555555555556,\"#d8576b\"],[0.6666666666666666,\"#ed7953\"],[0.7777777777777778,\"#fb9f3a\"],[0.8888888888888888,\"#fdca26\"],[1.0,\"#f0f921\"]],\"type\":\"histogram2d\"}],\"histogram\":[{\"marker\":{\"pattern\":{\"fillmode\":\"overlay\",\"size\":10,\"solidity\":0.2}},\"type\":\"histogram\"}],\"mesh3d\":[{\"colorbar\":{\"outlinewidth\":0,\"ticks\":\"\"},\"type\":\"mesh3d\"}],\"parcoords\":[{\"line\":{\"colorbar\":{\"outlinewidth\":0,\"ticks\":\"\"}},\"type\":\"parcoords\"}],\"pie\":[{\"automargin\":true,\"type\":\"pie\"}],\"scatter3d\":[{\"line\":{\"colorbar\":{\"outlinewidth\":0,\"ticks\":\"\"}},\"marker\":{\"colorbar\":{\"outlinewidth\":0,\"ticks\":\"\"}},\"type\":\"scatter3d\"}],\"scattercarpet\":[{\"marker\":{\"colorbar\":{\"outlinewidth\":0,\"ticks\":\"\"}},\"type\":\"scattercarpet\"}],\"scattergeo\":[{\"marker\":{\"colorbar\":{\"outlinewidth\":0,\"ticks\":\"\"}},\"type\":\"scattergeo\"}],\"scattergl\":[{\"marker\":{\"colorbar\":{\"outlinewidth\":0,\"ticks\":\"\"}},\"type\":\"scattergl\"}],\"scattermapbox\":[{\"marker\":{\"colorbar\":{\"outlinewidth\":0,\"ticks\":\"\"}},\"type\":\"scattermapbox\"}],\"scatterpolargl\":[{\"marker\":{\"colorbar\":{\"outlinewidth\":0,\"ticks\":\"\"}},\"type\":\"scatterpolargl\"}],\"scatterpolar\":[{\"marker\":{\"colorbar\":{\"outlinewidth\":0,\"ticks\":\"\"}},\"type\":\"scatterpolar\"}],\"scatter\":[{\"fillpattern\":{\"fillmode\":\"overlay\",\"size\":10,\"solidity\":0.2},\"type\":\"scatter\"}],\"scatterternary\":[{\"marker\":{\"colorbar\":{\"outlinewidth\":0,\"ticks\":\"\"}},\"type\":\"scatterternary\"}],\"surface\":[{\"colorbar\":{\"outlinewidth\":0,\"ticks\":\"\"},\"colorscale\":[[0.0,\"#0d0887\"],[0.1111111111111111,\"#46039f\"],[0.2222222222222222,\"#7201a8\"],[0.3333333333333333,\"#9c179e\"],[0.4444444444444444,\"#bd3786\"],[0.5555555555555556,\"#d8576b\"],[0.6666666666666666,\"#ed7953\"],[0.7777777777777778,\"#fb9f3a\"],[0.8888888888888888,\"#fdca26\"],[1.0,\"#f0f921\"]],\"type\":\"surface\"}],\"table\":[{\"cells\":{\"fill\":{\"color\":\"#EBF0F8\"},\"line\":{\"color\":\"white\"}},\"header\":{\"fill\":{\"color\":\"#C8D4E3\"},\"line\":{\"color\":\"white\"}},\"type\":\"table\"}]},\"layout\":{\"annotationdefaults\":{\"arrowcolor\":\"#2a3f5f\",\"arrowhead\":0,\"arrowwidth\":1},\"autotypenumbers\":\"strict\",\"coloraxis\":{\"colorbar\":{\"outlinewidth\":0,\"ticks\":\"\"}},\"colorscale\":{\"diverging\":[[0,\"#8e0152\"],[0.1,\"#c51b7d\"],[0.2,\"#de77ae\"],[0.3,\"#f1b6da\"],[0.4,\"#fde0ef\"],[0.5,\"#f7f7f7\"],[0.6,\"#e6f5d0\"],[0.7,\"#b8e186\"],[0.8,\"#7fbc41\"],[0.9,\"#4d9221\"],[1,\"#276419\"]],\"sequential\":[[0.0,\"#0d0887\"],[0.1111111111111111,\"#46039f\"],[0.2222222222222222,\"#7201a8\"],[0.3333333333333333,\"#9c179e\"],[0.4444444444444444,\"#bd3786\"],[0.5555555555555556,\"#d8576b\"],[0.6666666666666666,\"#ed7953\"],[0.7777777777777778,\"#fb9f3a\"],[0.8888888888888888,\"#fdca26\"],[1.0,\"#f0f921\"]],\"sequentialminus\":[[0.0,\"#0d0887\"],[0.1111111111111111,\"#46039f\"],[0.2222222222222222,\"#7201a8\"],[0.3333333333333333,\"#9c179e\"],[0.4444444444444444,\"#bd3786\"],[0.5555555555555556,\"#d8576b\"],[0.6666666666666666,\"#ed7953\"],[0.7777777777777778,\"#fb9f3a\"],[0.8888888888888888,\"#fdca26\"],[1.0,\"#f0f921\"]]},\"colorway\":[\"#636efa\",\"#EF553B\",\"#00cc96\",\"#ab63fa\",\"#FFA15A\",\"#19d3f3\",\"#FF6692\",\"#B6E880\",\"#FF97FF\",\"#FECB52\"],\"font\":{\"color\":\"#2a3f5f\"},\"geo\":{\"bgcolor\":\"white\",\"lakecolor\":\"white\",\"landcolor\":\"#E5ECF6\",\"showlakes\":true,\"showland\":true,\"subunitcolor\":\"white\"},\"hoverlabel\":{\"align\":\"left\"},\"hovermode\":\"closest\",\"mapbox\":{\"style\":\"light\"},\"paper_bgcolor\":\"white\",\"plot_bgcolor\":\"#E5ECF6\",\"polar\":{\"angularaxis\":{\"gridcolor\":\"white\",\"linecolor\":\"white\",\"ticks\":\"\"},\"bgcolor\":\"#E5ECF6\",\"radialaxis\":{\"gridcolor\":\"white\",\"linecolor\":\"white\",\"ticks\":\"\"}},\"scene\":{\"xaxis\":{\"backgroundcolor\":\"#E5ECF6\",\"gridcolor\":\"white\",\"gridwidth\":2,\"linecolor\":\"white\",\"showbackground\":true,\"ticks\":\"\",\"zerolinecolor\":\"white\"},\"yaxis\":{\"backgroundcolor\":\"#E5ECF6\",\"gridcolor\":\"white\",\"gridwidth\":2,\"linecolor\":\"white\",\"showbackground\":true,\"ticks\":\"\",\"zerolinecolor\":\"white\"},\"zaxis\":{\"backgroundcolor\":\"#E5ECF6\",\"gridcolor\":\"white\",\"gridwidth\":2,\"linecolor\":\"white\",\"showbackground\":true,\"ticks\":\"\",\"zerolinecolor\":\"white\"}},\"shapedefaults\":{\"line\":{\"color\":\"#2a3f5f\"}},\"ternary\":{\"aaxis\":{\"gridcolor\":\"white\",\"linecolor\":\"white\",\"ticks\":\"\"},\"baxis\":{\"gridcolor\":\"white\",\"linecolor\":\"white\",\"ticks\":\"\"},\"bgcolor\":\"#E5ECF6\",\"caxis\":{\"gridcolor\":\"white\",\"linecolor\":\"white\",\"ticks\":\"\"}},\"title\":{\"x\":0.05},\"xaxis\":{\"automargin\":true,\"gridcolor\":\"white\",\"linecolor\":\"white\",\"ticks\":\"\",\"title\":{\"standoff\":15},\"zerolinecolor\":\"white\",\"zerolinewidth\":2},\"yaxis\":{\"automargin\":true,\"gridcolor\":\"white\",\"linecolor\":\"white\",\"ticks\":\"\",\"title\":{\"standoff\":15},\"zerolinecolor\":\"white\",\"zerolinewidth\":2}}},\"title\":{\"text\":\"Stock Prices of Bombay Iron & Steel\"},\"xaxis\":{\"title\":{\"font\":{\"size\":14},\"text\":\"Date\"}},\"yaxis\":{\"title\":{\"font\":{\"size\":14},\"text\":\"Price\"}}},                        {\"responsive\": true}                    ).then(function(){\n",
       "                            \n",
       "var gd = document.getElementById('c4132268-951e-4636-b5f6-34714c56267f');\n",
       "var x = new MutationObserver(function (mutations, observer) {{\n",
       "        var display = window.getComputedStyle(gd).display;\n",
       "        if (!display || display === 'none') {{\n",
       "            console.log([gd, 'removed!']);\n",
       "            Plotly.purge(gd);\n",
       "            observer.disconnect();\n",
       "        }}\n",
       "}});\n",
       "\n",
       "// Listen for the removal of the full notebook cells\n",
       "var notebookContainer = gd.closest('#notebook-container');\n",
       "if (notebookContainer) {{\n",
       "    x.observe(notebookContainer, {childList: true});\n",
       "}}\n",
       "\n",
       "// Listen for the clearing of the current output cell\n",
       "var outputEl = gd.closest('.output');\n",
       "if (outputEl) {{\n",
       "    x.observe(outputEl, {childList: true});\n",
       "}}\n",
       "\n",
       "                        })                };                });            </script>        </div>"
      ]
     },
     "metadata": {},
     "output_type": "display_data"
    }
   ],
   "source": [
    "layout=go.Layout(\n",
    "    title='Stock Prices of Bombay Iron & Steel',\n",
    "    xaxis=dict(\n",
    "        title='Date',\n",
    "        titlefont=dict(\n",
    "            size=14\n",
    "        )\n",
    "    ),\n",
    "    yaxis=dict(\n",
    "        title='Price',\n",
    "        titlefont=dict(\n",
    "            size=14\n",
    "        )\n",
    "    )\n",
    ")\n",
    "Bombay_data=[{'x':data['Date'], 'y':data['Close']}]\n",
    "plot=go.Figure(data=Bombay_data,layout=layout)\n",
    "\n",
    "iplot(plot)"
   ]
  },
  {
   "cell_type": "markdown",
   "metadata": {},
   "source": [
    "# Train Test Split"
   ]
  },
  {
   "cell_type": "code",
   "execution_count": 183,
   "metadata": {},
   "outputs": [],
   "source": [
    "def split(data):\n",
    "    X=np.array(data.index).reshape(-1,1)\n",
    "    Y=data['Close']\n",
    "    X_train,X_test,Y_train,Y_test=train_test_split(X,Y,test_size=0.3,random_state=101)\n",
    "    return X_train,X_test,Y_train,Y_test"
   ]
  },
  {
   "cell_type": "code",
   "execution_count": 184,
   "metadata": {},
   "outputs": [],
   "source": [
    "X_train,X_test,Y_train,Y_test=split(data)"
   ]
  },
  {
   "cell_type": "markdown",
   "metadata": {},
   "source": [
    "# Feature Scaling"
   ]
  },
  {
   "cell_type": "code",
   "execution_count": 185,
   "metadata": {},
   "outputs": [],
   "source": [
    "scaler=StandardScaler().fit(X_train)"
   ]
  },
  {
   "cell_type": "markdown",
   "metadata": {
    "id": "ehmj5XIlRBHQ"
   },
   "source": [
    "# Linear Regression Model"
   ]
  },
  {
   "cell_type": "code",
   "execution_count": 186,
   "metadata": {
    "id": "TlN2hN9sRPVK"
   },
   "outputs": [
    {
     "data": {
      "text/plain": [
       "LinearRegression()"
      ]
     },
     "execution_count": 186,
     "metadata": {},
     "output_type": "execute_result"
    }
   ],
   "source": [
    "lm=LinearRegression()\n",
    "lm.fit(X_train,Y_train)"
   ]
  },
  {
   "cell_type": "markdown",
   "metadata": {},
   "source": [
    "## Plot Actual and Predicted Price"
   ]
  },
  {
   "cell_type": "code",
   "execution_count": 187,
   "metadata": {
    "scrolled": true
   },
   "outputs": [
    {
     "data": {
      "application/vnd.plotly.v1+json": {
       "config": {
        "linkText": "Export to plot.ly",
        "plotlyServerURL": "https://plot.ly",
        "showLink": false
       },
       "data": [
        {
         "mode": "markers",
         "name": "Actual",
         "type": "scatter",
         "x": [
          385,
          397,
          367,
          121,
          9,
          147,
          333,
          388,
          322,
          372,
          16,
          41,
          350,
          307,
          178,
          266,
          293,
          252,
          286,
          45,
          153,
          70,
          402,
          148,
          112,
          320,
          90,
          336,
          415,
          78,
          160,
          124,
          167,
          374,
          183,
          60,
          227,
          181,
          277,
          134,
          216,
          446,
          430,
          201,
          259,
          395,
          369,
          29,
          370,
          260,
          158,
          331,
          171,
          399,
          33,
          251,
          74,
          317,
          448,
          436,
          237,
          240,
          310,
          352,
          20,
          119,
          215,
          127,
          386,
          162,
          302,
          135,
          324,
          83,
          188,
          295,
          213,
          298,
          330,
          256,
          332,
          182,
          311,
          403,
          73,
          55,
          359,
          85,
          269,
          159,
          177,
          108,
          172,
          241,
          115,
          267,
          35,
          274,
          37,
          34,
          1,
          313,
          234,
          102,
          279,
          421,
          101,
          150,
          363,
          271,
          123,
          361,
          344,
          435,
          447,
          200,
          442,
          412,
          25,
          345,
          390,
          349,
          261,
          438,
          433,
          221,
          208,
          347,
          432,
          308,
          346,
          22,
          42,
          6,
          312,
          88,
          50,
          80,
          258,
          283,
          193,
          145,
          54,
          232,
          66,
          423,
          26,
          151,
          185,
          334,
          122,
          96,
          190,
          377,
          84,
          144,
          314,
          358,
          443,
          270,
          146,
          61,
          196,
          68,
          79,
          129,
          299,
          67,
          318,
          125,
          366,
          166,
          292,
          97,
          301,
          219,
          429,
          309,
          373,
          356,
          180,
          280,
          253,
          52,
          428,
          142,
          184,
          357,
          77,
          82,
          381,
          217,
          305,
          431,
          27,
          375,
          199,
          94,
          254,
          235,
          23,
          21,
          149,
          285,
          341,
          131,
          46,
          338,
          226,
          207,
          163,
          244,
          71,
          368,
          376,
          262,
          120,
          409,
          197,
          250,
          14,
          303,
          340,
          427,
          3,
          28,
          113,
          92,
          407,
          58,
          173,
          137,
          214,
          229,
          47,
          174,
          410,
          282,
          342,
          406,
          276,
          441,
          10,
          30,
          416,
          191,
          380,
          404,
          152,
          353,
          203,
          248,
          273,
          140,
          362,
          116,
          0,
          300,
          398,
          327,
          329,
          238,
          294,
          103,
          414,
          7,
          319,
          284,
          99,
          164,
          62,
          264,
          239,
          105,
          384,
          343,
          107,
          223,
          76,
          394,
          126,
          275,
          249,
          328,
          44,
          418,
          59,
          437,
          413,
          371,
          136,
          111,
          339,
          49,
          440,
          396,
          5,
          110,
          192,
          220,
          316,
          245,
          424,
          444,
          132,
          40,
          393,
          75,
          87,
          63,
          326,
          337,
          11,
          351
         ],
         "y": [
          11.5,
          13,
          18,
          9,
          1.9,
          10,
          17,
          12,
          16,
          20,
          2.9,
          3.25,
          16,
          15,
          10,
          22.5,
          15,
          25,
          14,
          3.5,
          17.5,
          6,
          13,
          10,
          10,
          16,
          6,
          16,
          15,
          6,
          2.5,
          9.25,
          8,
          19,
          18.5,
          4.8,
          20,
          17.5,
          15,
          12,
          20,
          15,
          15,
          15,
          20,
          13.75,
          19,
          3.25,
          19,
          20,
          6.5,
          17,
          10,
          15,
          3.25,
          25,
          6,
          16,
          15,
          15,
          32.5,
          25,
          15,
          16,
          3,
          7.75,
          16.25,
          10.5,
          12,
          1,
          15,
          11.25,
          17,
          6,
          20,
          15,
          20,
          14,
          16,
          20,
          16,
          20,
          15,
          15,
          6,
          3.65,
          18,
          6,
          17.5,
          3.75,
          11.25,
          7,
          12.5,
          25,
          7.5,
          25,
          3.25,
          15,
          3.25,
          3.25,
          1.05,
          16,
          50,
          7.5,
          17.5,
          15,
          8,
          16,
          17,
          17.5,
          9.25,
          17,
          15,
          15,
          15,
          17.5,
          15,
          15,
          3,
          15,
          13.75,
          15,
          20,
          12.5,
          15,
          25,
          20,
          15,
          15,
          15,
          15,
          3.05,
          3.25,
          1.5,
          15,
          6,
          3.65,
          6,
          20,
          13,
          17.5,
          10.5,
          3.75,
          30,
          6,
          15,
          3.15,
          18.5,
          17.5,
          17,
          10,
          7,
          20,
          15,
          6,
          11,
          15,
          17,
          15,
          15,
          10.25,
          5,
          15,
          6,
          6,
          10,
          14,
          5.95,
          15,
          8.5,
          17.5,
          10,
          14,
          7.4,
          15,
          25,
          15,
          14,
          18.75,
          17,
          17.5,
          15,
          25,
          3.65,
          15,
          10.5,
          20,
          15,
          6,
          6,
          13,
          25,
          15,
          15,
          3.25,
          17.5,
          15,
          6.5,
          20,
          40,
          3.05,
          3,
          15,
          13,
          15,
          9.75,
          3.5,
          15,
          25,
          15,
          2.5,
          25,
          6,
          19,
          17,
          17.5,
          8,
          15,
          15,
          25,
          2.6,
          15,
          15,
          15,
          1.4,
          3.25,
          8.5,
          6.4,
          15,
          3.75,
          12.5,
          14,
          18.75,
          25,
          3.5,
          12.5,
          15,
          14,
          15,
          15,
          17.5,
          14,
          2,
          3.25,
          15,
          20,
          13,
          15,
          19,
          16,
          17.5,
          17.5,
          17.5,
          11,
          17.5,
          7.75,
          1,
          15,
          15,
          17,
          15.5,
          30,
          14.5,
          8,
          15,
          1.7,
          17,
          14,
          8.2,
          7.5,
          5.5,
          17.5,
          25,
          5.5,
          11,
          16,
          7,
          25,
          6,
          15,
          8.75,
          18,
          20,
          16.25,
          3.25,
          15,
          3.65,
          15,
          15,
          20,
          13.75,
          10,
          15,
          3.65,
          12.5,
          13.75,
          1.45,
          8.5,
          15,
          25,
          13.5,
          25,
          15,
          15,
          11.5,
          3.25,
          13.75,
          6,
          6,
          5.5,
          17,
          16,
          2.1,
          15
         ]
        },
        {
         "mode": "lines",
         "name": "Predicted",
         "type": "scatter",
         "x": [
          385,
          397,
          367,
          121,
          9,
          147,
          333,
          388,
          322,
          372,
          16,
          41,
          350,
          307,
          178,
          266,
          293,
          252,
          286,
          45,
          153,
          70,
          402,
          148,
          112,
          320,
          90,
          336,
          415,
          78,
          160,
          124,
          167,
          374,
          183,
          60,
          227,
          181,
          277,
          134,
          216,
          446,
          430,
          201,
          259,
          395,
          369,
          29,
          370,
          260,
          158,
          331,
          171,
          399,
          33,
          251,
          74,
          317,
          448,
          436,
          237,
          240,
          310,
          352,
          20,
          119,
          215,
          127,
          386,
          162,
          302,
          135,
          324,
          83,
          188,
          295,
          213,
          298,
          330,
          256,
          332,
          182,
          311,
          403,
          73,
          55,
          359,
          85,
          269,
          159,
          177,
          108,
          172,
          241,
          115,
          267,
          35,
          274,
          37,
          34,
          1,
          313,
          234,
          102,
          279,
          421,
          101,
          150,
          363,
          271,
          123,
          361,
          344,
          435,
          447,
          200,
          442,
          412,
          25,
          345,
          390,
          349,
          261,
          438,
          433,
          221,
          208,
          347,
          432,
          308,
          346,
          22,
          42,
          6,
          312,
          88,
          50,
          80,
          258,
          283,
          193,
          145,
          54,
          232,
          66,
          423,
          26,
          151,
          185,
          334,
          122,
          96,
          190,
          377,
          84,
          144,
          314,
          358,
          443,
          270,
          146,
          61,
          196,
          68,
          79,
          129,
          299,
          67,
          318,
          125,
          366,
          166,
          292,
          97,
          301,
          219,
          429,
          309,
          373,
          356,
          180,
          280,
          253,
          52,
          428,
          142,
          184,
          357,
          77,
          82,
          381,
          217,
          305,
          431,
          27,
          375,
          199,
          94,
          254,
          235,
          23,
          21,
          149,
          285,
          341,
          131,
          46,
          338,
          226,
          207,
          163,
          244,
          71,
          368,
          376,
          262,
          120,
          409,
          197,
          250,
          14,
          303,
          340,
          427,
          3,
          28,
          113,
          92,
          407,
          58,
          173,
          137,
          214,
          229,
          47,
          174,
          410,
          282,
          342,
          406,
          276,
          441,
          10,
          30,
          416,
          191,
          380,
          404,
          152,
          353,
          203,
          248,
          273,
          140,
          362,
          116,
          0,
          300,
          398,
          327,
          329,
          238,
          294,
          103,
          414,
          7,
          319,
          284,
          99,
          164,
          62,
          264,
          239,
          105,
          384,
          343,
          107,
          223,
          76,
          394,
          126,
          275,
          249,
          328,
          44,
          418,
          59,
          437,
          413,
          371,
          136,
          111,
          339,
          49,
          440,
          396,
          5,
          110,
          192,
          220,
          316,
          245,
          424,
          444,
          132,
          40,
          393,
          75,
          87,
          63,
          326,
          337,
          11,
          351
         ],
         "y": [
          18.040350813694893,
          18.413557333582002,
          17.480541033864228,
          9.82980737617849,
          6.3465465238988035,
          10.63842150260056,
          16.42312256085075,
          18.13365244366667,
          16.081016584287568,
          17.636043750483857,
          6.564250327166284,
          7.341763910264428,
          16.95183179735749,
          15.614508434428682,
          11.602538345642259,
          14.339386158147725,
          15.17910082789372,
          13.903978551612765,
          14.96139702462624,
          7.466166083560131,
          10.825024762544114,
          8.243679666658275,
          18.569060050201628,
          10.669522045924484,
          9.549902486263157,
          16.018815497639718,
          8.86569053313679,
          16.51642419082253,
          18.973367113412664,
          8.492484013249681,
          11.042728565811593,
          9.923109006150266,
          11.260432369079075,
          17.698244837131707,
          11.758041062261887,
          7.932674233419018,
          13.126464968514622,
          11.695839975614035,
          14.681492134710908,
          10.234114439389526,
          12.784358991951438,
          19.937483956454365,
          19.439875263271553,
          12.31785084209255,
          14.121682354880246,
          18.35135624693415,
          17.54274212051208,
          6.968557390377319,
          17.573842663836004,
          14.152782898204173,
          10.980527479163744,
          16.3609214742029,
          11.384834542374778,
          18.47575842022985,
          7.092959563673022,
          13.87287800828884,
          8.368081839953978,
          15.925513867667938,
          19.999685043102215,
          19.626478523215106,
          13.437470401753878,
          13.530772031725656,
          15.707810064400459,
          17.014032884005342,
          6.688652500461987,
          9.767606289530638,
          12.753258448627513,
          10.016410636122044,
          18.071451357018816,
          11.104929652459447,
          15.459005717809053,
          10.26521498271345,
          16.14321767093542,
          8.64798672986931,
          11.913543778881515,
          15.241301914541573,
          12.69105736197966,
          15.33460354451335,
          16.329820930878974,
          14.028380724908468,
          16.392022017526827,
          11.726940518937962,
          15.738910607724385,
          18.600160593525555,
          8.336981296630054,
          7.777171516799389,
          17.23173668727282,
          8.710187816517163,
          14.432687788119502,
          11.011628022487669,
          11.571437802318332,
          9.425500312967454,
          11.415935085698703,
          13.56187257504958,
          9.643204116234935,
          14.370486701471652,
          7.155160650320873,
          14.588190504739131,
          7.217361736968725,
          7.124060106996948,
          6.097742177307397,
          15.801111694372235,
          13.344168771782101,
          9.2388970530239,
          14.743693221358761,
          19.15997037335622,
          9.207796509699975,
          10.731723132572338,
          17.356138860568525,
          14.494888874767355,
          9.892008462826341,
          17.293937773920675,
          16.765228537413936,
          19.59537797989118,
          19.968584499778288,
          12.286750298768624,
          19.813081783158662,
          18.880065483440887,
          6.844155217081616,
          16.796329080737863,
          18.19585353031452,
          16.920731254033566,
          14.183883441528096,
          19.68867960986296,
          19.53317689324333,
          12.939861708571065,
          12.53555464536003,
          16.858530167385712,
          19.502076349919403,
          15.645608977752609,
          16.827429624061786,
          6.750853587109838,
          7.372864453588354,
          6.253244893927026,
          15.770011151048312,
          8.803489446488939,
          7.62166880017976,
          8.554685099897533,
          14.09058181155632,
          14.868095394654464,
          12.069046495501144,
          10.576220415952708,
          7.746070973475463,
          13.28196768513425,
          8.119277493362572,
          19.22217146000407,
          6.875255760405541,
          10.762823675896263,
          11.820242148909738,
          16.454223104174677,
          9.860907919502415,
          9.052293793080345,
          11.975744865529368,
          17.791546467103487,
          8.679087273193236,
          10.545119872628781,
          15.832212237696162,
          17.200636143948895,
          19.844182326482585,
          14.463788331443428,
          10.607320959276635,
          7.963774776742944,
          12.16234812547292,
          8.181478580010424,
          8.523584556573606,
          10.078611722769896,
          15.365704087837276,
          8.150378036686497,
          15.956614410991865,
          9.954209549474193,
          17.4494404905403,
          11.22933182575515,
          15.148000284569797,
          9.083394336404272,
          15.427905174485126,
          12.877660621923216,
          19.408774719947626,
          15.676709521076532,
          17.667144293807784,
          17.138435057301045,
          11.664739432290109,
          14.774793764682688,
          13.93507909493669,
          7.683869886827612,
          19.3776741766237,
          10.482918785980932,
          11.789141605585812,
          17.16953560062497,
          8.461383469925757,
          8.616886186545385,
          17.91594864039919,
          12.815459535275362,
          15.552307347780829,
          19.470975806595476,
          6.906356303729467,
          17.729345380455634,
          12.255649755444699,
          8.990092706432494,
          13.966179638260616,
          13.375269315106028,
          6.781954130433764,
          6.7197530437859125,
          10.700622589248411,
          14.930296481302314,
          16.671926907442156,
          10.140812809417747,
          7.497266626884057,
          16.57862527747038,
          13.095364425190695,
          12.504454102036105,
          11.136030195783372,
          13.655174205021359,
          8.2747802099822,
          17.511641577188154,
          17.76044592377956,
          14.214983984852022,
          9.798706832854563,
          18.78676385346911,
          12.193448668796847,
          13.841777464964913,
          6.502049240518432,
          15.49010626113298,
          16.640826364118233,
          19.346573633299773,
          6.159943263955249,
          6.937456847053393,
          9.581003029587084,
          8.927891619784642,
          18.724562766821258,
          7.870473146771166,
          11.44703562902263,
          10.327416069361302,
          12.722157905303586,
          13.188666055162471,
          7.528367170207982,
          11.478136172346556,
          18.817864396793034,
          14.836994851330537,
          16.703027450766083,
          18.69346222349733,
          14.650391591386985,
          19.781981239834735,
          6.377647067222729,
          6.999657933701244,
          19.00446765673659,
          12.006845408853293,
          17.884848097075263,
          18.63126113684948,
          10.793924219220187,
          17.04513342732927,
          12.380051928740402,
          13.779576378317062,
          14.557089961415205,
          10.420717699333078,
          17.325038317244598,
          9.67430465955886,
          6.066641633983472,
          15.396804631161203,
          18.444657876905925,
          16.236519300907197,
          16.298720387555047,
          13.468570945077804,
          15.210201371217646,
          9.269997596347824,
          18.942266570088737,
          6.284345437250952,
          15.987714954315791,
          14.89919593797839,
          9.145595423052121,
          11.167130739107296,
          7.994875320066869,
          14.277185071499876,
          13.49967148840173,
          9.332198682995678,
          18.009250270370966,
          16.73412799409001,
          9.39439976964353,
          13.002062795218919,
          8.43028292660183,
          18.320255703610222,
          9.985310092798118,
          14.619291048063058,
          13.810676921640987,
          16.267619844231124,
          7.435065540236206,
          19.06666874338444,
          7.901573690095092,
          19.657579066539032,
          18.911166026764814,
          17.60494320715993,
          10.296315526037375,
          9.518801942939232,
          16.609725820794306,
          7.590568256855834,
          19.75088069651081,
          18.382456790258075,
          6.2221443506031004,
          9.487701399615306,
          12.037945952177218,
          12.90876116524714,
          15.894413324344015,
          13.686274748345284,
          19.253272003327996,
          19.87528286980651,
          10.171913352741672,
          7.310663366940503,
          18.2891551602863,
          8.399182383277903,
          8.772388903165012,
          8.025975863390794,
          16.20541875758327,
          16.547524734146453,
          6.408747610546655,
          16.982932340681415
         ]
        }
       ],
       "layout": {
        "template": {
         "data": {
          "bar": [
           {
            "error_x": {
             "color": "#2a3f5f"
            },
            "error_y": {
             "color": "#2a3f5f"
            },
            "marker": {
             "line": {
              "color": "#E5ECF6",
              "width": 0.5
             },
             "pattern": {
              "fillmode": "overlay",
              "size": 10,
              "solidity": 0.2
             }
            },
            "type": "bar"
           }
          ],
          "barpolar": [
           {
            "marker": {
             "line": {
              "color": "#E5ECF6",
              "width": 0.5
             },
             "pattern": {
              "fillmode": "overlay",
              "size": 10,
              "solidity": 0.2
             }
            },
            "type": "barpolar"
           }
          ],
          "carpet": [
           {
            "aaxis": {
             "endlinecolor": "#2a3f5f",
             "gridcolor": "white",
             "linecolor": "white",
             "minorgridcolor": "white",
             "startlinecolor": "#2a3f5f"
            },
            "baxis": {
             "endlinecolor": "#2a3f5f",
             "gridcolor": "white",
             "linecolor": "white",
             "minorgridcolor": "white",
             "startlinecolor": "#2a3f5f"
            },
            "type": "carpet"
           }
          ],
          "choropleth": [
           {
            "colorbar": {
             "outlinewidth": 0,
             "ticks": ""
            },
            "type": "choropleth"
           }
          ],
          "contour": [
           {
            "colorbar": {
             "outlinewidth": 0,
             "ticks": ""
            },
            "colorscale": [
             [
              0,
              "#0d0887"
             ],
             [
              0.1111111111111111,
              "#46039f"
             ],
             [
              0.2222222222222222,
              "#7201a8"
             ],
             [
              0.3333333333333333,
              "#9c179e"
             ],
             [
              0.4444444444444444,
              "#bd3786"
             ],
             [
              0.5555555555555556,
              "#d8576b"
             ],
             [
              0.6666666666666666,
              "#ed7953"
             ],
             [
              0.7777777777777778,
              "#fb9f3a"
             ],
             [
              0.8888888888888888,
              "#fdca26"
             ],
             [
              1,
              "#f0f921"
             ]
            ],
            "type": "contour"
           }
          ],
          "contourcarpet": [
           {
            "colorbar": {
             "outlinewidth": 0,
             "ticks": ""
            },
            "type": "contourcarpet"
           }
          ],
          "heatmap": [
           {
            "colorbar": {
             "outlinewidth": 0,
             "ticks": ""
            },
            "colorscale": [
             [
              0,
              "#0d0887"
             ],
             [
              0.1111111111111111,
              "#46039f"
             ],
             [
              0.2222222222222222,
              "#7201a8"
             ],
             [
              0.3333333333333333,
              "#9c179e"
             ],
             [
              0.4444444444444444,
              "#bd3786"
             ],
             [
              0.5555555555555556,
              "#d8576b"
             ],
             [
              0.6666666666666666,
              "#ed7953"
             ],
             [
              0.7777777777777778,
              "#fb9f3a"
             ],
             [
              0.8888888888888888,
              "#fdca26"
             ],
             [
              1,
              "#f0f921"
             ]
            ],
            "type": "heatmap"
           }
          ],
          "heatmapgl": [
           {
            "colorbar": {
             "outlinewidth": 0,
             "ticks": ""
            },
            "colorscale": [
             [
              0,
              "#0d0887"
             ],
             [
              0.1111111111111111,
              "#46039f"
             ],
             [
              0.2222222222222222,
              "#7201a8"
             ],
             [
              0.3333333333333333,
              "#9c179e"
             ],
             [
              0.4444444444444444,
              "#bd3786"
             ],
             [
              0.5555555555555556,
              "#d8576b"
             ],
             [
              0.6666666666666666,
              "#ed7953"
             ],
             [
              0.7777777777777778,
              "#fb9f3a"
             ],
             [
              0.8888888888888888,
              "#fdca26"
             ],
             [
              1,
              "#f0f921"
             ]
            ],
            "type": "heatmapgl"
           }
          ],
          "histogram": [
           {
            "marker": {
             "pattern": {
              "fillmode": "overlay",
              "size": 10,
              "solidity": 0.2
             }
            },
            "type": "histogram"
           }
          ],
          "histogram2d": [
           {
            "colorbar": {
             "outlinewidth": 0,
             "ticks": ""
            },
            "colorscale": [
             [
              0,
              "#0d0887"
             ],
             [
              0.1111111111111111,
              "#46039f"
             ],
             [
              0.2222222222222222,
              "#7201a8"
             ],
             [
              0.3333333333333333,
              "#9c179e"
             ],
             [
              0.4444444444444444,
              "#bd3786"
             ],
             [
              0.5555555555555556,
              "#d8576b"
             ],
             [
              0.6666666666666666,
              "#ed7953"
             ],
             [
              0.7777777777777778,
              "#fb9f3a"
             ],
             [
              0.8888888888888888,
              "#fdca26"
             ],
             [
              1,
              "#f0f921"
             ]
            ],
            "type": "histogram2d"
           }
          ],
          "histogram2dcontour": [
           {
            "colorbar": {
             "outlinewidth": 0,
             "ticks": ""
            },
            "colorscale": [
             [
              0,
              "#0d0887"
             ],
             [
              0.1111111111111111,
              "#46039f"
             ],
             [
              0.2222222222222222,
              "#7201a8"
             ],
             [
              0.3333333333333333,
              "#9c179e"
             ],
             [
              0.4444444444444444,
              "#bd3786"
             ],
             [
              0.5555555555555556,
              "#d8576b"
             ],
             [
              0.6666666666666666,
              "#ed7953"
             ],
             [
              0.7777777777777778,
              "#fb9f3a"
             ],
             [
              0.8888888888888888,
              "#fdca26"
             ],
             [
              1,
              "#f0f921"
             ]
            ],
            "type": "histogram2dcontour"
           }
          ],
          "mesh3d": [
           {
            "colorbar": {
             "outlinewidth": 0,
             "ticks": ""
            },
            "type": "mesh3d"
           }
          ],
          "parcoords": [
           {
            "line": {
             "colorbar": {
              "outlinewidth": 0,
              "ticks": ""
             }
            },
            "type": "parcoords"
           }
          ],
          "pie": [
           {
            "automargin": true,
            "type": "pie"
           }
          ],
          "scatter": [
           {
            "fillpattern": {
             "fillmode": "overlay",
             "size": 10,
             "solidity": 0.2
            },
            "type": "scatter"
           }
          ],
          "scatter3d": [
           {
            "line": {
             "colorbar": {
              "outlinewidth": 0,
              "ticks": ""
             }
            },
            "marker": {
             "colorbar": {
              "outlinewidth": 0,
              "ticks": ""
             }
            },
            "type": "scatter3d"
           }
          ],
          "scattercarpet": [
           {
            "marker": {
             "colorbar": {
              "outlinewidth": 0,
              "ticks": ""
             }
            },
            "type": "scattercarpet"
           }
          ],
          "scattergeo": [
           {
            "marker": {
             "colorbar": {
              "outlinewidth": 0,
              "ticks": ""
             }
            },
            "type": "scattergeo"
           }
          ],
          "scattergl": [
           {
            "marker": {
             "colorbar": {
              "outlinewidth": 0,
              "ticks": ""
             }
            },
            "type": "scattergl"
           }
          ],
          "scattermapbox": [
           {
            "marker": {
             "colorbar": {
              "outlinewidth": 0,
              "ticks": ""
             }
            },
            "type": "scattermapbox"
           }
          ],
          "scatterpolar": [
           {
            "marker": {
             "colorbar": {
              "outlinewidth": 0,
              "ticks": ""
             }
            },
            "type": "scatterpolar"
           }
          ],
          "scatterpolargl": [
           {
            "marker": {
             "colorbar": {
              "outlinewidth": 0,
              "ticks": ""
             }
            },
            "type": "scatterpolargl"
           }
          ],
          "scatterternary": [
           {
            "marker": {
             "colorbar": {
              "outlinewidth": 0,
              "ticks": ""
             }
            },
            "type": "scatterternary"
           }
          ],
          "surface": [
           {
            "colorbar": {
             "outlinewidth": 0,
             "ticks": ""
            },
            "colorscale": [
             [
              0,
              "#0d0887"
             ],
             [
              0.1111111111111111,
              "#46039f"
             ],
             [
              0.2222222222222222,
              "#7201a8"
             ],
             [
              0.3333333333333333,
              "#9c179e"
             ],
             [
              0.4444444444444444,
              "#bd3786"
             ],
             [
              0.5555555555555556,
              "#d8576b"
             ],
             [
              0.6666666666666666,
              "#ed7953"
             ],
             [
              0.7777777777777778,
              "#fb9f3a"
             ],
             [
              0.8888888888888888,
              "#fdca26"
             ],
             [
              1,
              "#f0f921"
             ]
            ],
            "type": "surface"
           }
          ],
          "table": [
           {
            "cells": {
             "fill": {
              "color": "#EBF0F8"
             },
             "line": {
              "color": "white"
             }
            },
            "header": {
             "fill": {
              "color": "#C8D4E3"
             },
             "line": {
              "color": "white"
             }
            },
            "type": "table"
           }
          ]
         },
         "layout": {
          "annotationdefaults": {
           "arrowcolor": "#2a3f5f",
           "arrowhead": 0,
           "arrowwidth": 1
          },
          "autotypenumbers": "strict",
          "coloraxis": {
           "colorbar": {
            "outlinewidth": 0,
            "ticks": ""
           }
          },
          "colorscale": {
           "diverging": [
            [
             0,
             "#8e0152"
            ],
            [
             0.1,
             "#c51b7d"
            ],
            [
             0.2,
             "#de77ae"
            ],
            [
             0.3,
             "#f1b6da"
            ],
            [
             0.4,
             "#fde0ef"
            ],
            [
             0.5,
             "#f7f7f7"
            ],
            [
             0.6,
             "#e6f5d0"
            ],
            [
             0.7,
             "#b8e186"
            ],
            [
             0.8,
             "#7fbc41"
            ],
            [
             0.9,
             "#4d9221"
            ],
            [
             1,
             "#276419"
            ]
           ],
           "sequential": [
            [
             0,
             "#0d0887"
            ],
            [
             0.1111111111111111,
             "#46039f"
            ],
            [
             0.2222222222222222,
             "#7201a8"
            ],
            [
             0.3333333333333333,
             "#9c179e"
            ],
            [
             0.4444444444444444,
             "#bd3786"
            ],
            [
             0.5555555555555556,
             "#d8576b"
            ],
            [
             0.6666666666666666,
             "#ed7953"
            ],
            [
             0.7777777777777778,
             "#fb9f3a"
            ],
            [
             0.8888888888888888,
             "#fdca26"
            ],
            [
             1,
             "#f0f921"
            ]
           ],
           "sequentialminus": [
            [
             0,
             "#0d0887"
            ],
            [
             0.1111111111111111,
             "#46039f"
            ],
            [
             0.2222222222222222,
             "#7201a8"
            ],
            [
             0.3333333333333333,
             "#9c179e"
            ],
            [
             0.4444444444444444,
             "#bd3786"
            ],
            [
             0.5555555555555556,
             "#d8576b"
            ],
            [
             0.6666666666666666,
             "#ed7953"
            ],
            [
             0.7777777777777778,
             "#fb9f3a"
            ],
            [
             0.8888888888888888,
             "#fdca26"
            ],
            [
             1,
             "#f0f921"
            ]
           ]
          },
          "colorway": [
           "#636efa",
           "#EF553B",
           "#00cc96",
           "#ab63fa",
           "#FFA15A",
           "#19d3f3",
           "#FF6692",
           "#B6E880",
           "#FF97FF",
           "#FECB52"
          ],
          "font": {
           "color": "#2a3f5f"
          },
          "geo": {
           "bgcolor": "white",
           "lakecolor": "white",
           "landcolor": "#E5ECF6",
           "showlakes": true,
           "showland": true,
           "subunitcolor": "white"
          },
          "hoverlabel": {
           "align": "left"
          },
          "hovermode": "closest",
          "mapbox": {
           "style": "light"
          },
          "paper_bgcolor": "white",
          "plot_bgcolor": "#E5ECF6",
          "polar": {
           "angularaxis": {
            "gridcolor": "white",
            "linecolor": "white",
            "ticks": ""
           },
           "bgcolor": "#E5ECF6",
           "radialaxis": {
            "gridcolor": "white",
            "linecolor": "white",
            "ticks": ""
           }
          },
          "scene": {
           "xaxis": {
            "backgroundcolor": "#E5ECF6",
            "gridcolor": "white",
            "gridwidth": 2,
            "linecolor": "white",
            "showbackground": true,
            "ticks": "",
            "zerolinecolor": "white"
           },
           "yaxis": {
            "backgroundcolor": "#E5ECF6",
            "gridcolor": "white",
            "gridwidth": 2,
            "linecolor": "white",
            "showbackground": true,
            "ticks": "",
            "zerolinecolor": "white"
           },
           "zaxis": {
            "backgroundcolor": "#E5ECF6",
            "gridcolor": "white",
            "gridwidth": 2,
            "linecolor": "white",
            "showbackground": true,
            "ticks": "",
            "zerolinecolor": "white"
           }
          },
          "shapedefaults": {
           "line": {
            "color": "#2a3f5f"
           }
          },
          "ternary": {
           "aaxis": {
            "gridcolor": "white",
            "linecolor": "white",
            "ticks": ""
           },
           "baxis": {
            "gridcolor": "white",
            "linecolor": "white",
            "ticks": ""
           },
           "bgcolor": "#E5ECF6",
           "caxis": {
            "gridcolor": "white",
            "linecolor": "white",
            "ticks": ""
           }
          },
          "title": {
           "x": 0.05
          },
          "xaxis": {
           "automargin": true,
           "gridcolor": "white",
           "linecolor": "white",
           "ticks": "",
           "title": {
            "standoff": 15
           },
           "zerolinecolor": "white",
           "zerolinewidth": 2
          },
          "yaxis": {
           "automargin": true,
           "gridcolor": "white",
           "linecolor": "white",
           "ticks": "",
           "title": {
            "standoff": 15
           },
           "zerolinecolor": "white",
           "zerolinewidth": 2
          }
         }
        },
        "title": {
         "text": "Stock Prices of Bombay Iron & Steel"
        },
        "xaxis": {
         "title": {
          "font": {
           "size": 14
          },
          "text": "Day"
         }
        },
        "yaxis": {
         "title": {
          "font": {
           "size": 14
          },
          "text": "Price"
         }
        }
       }
      },
      "text/html": [
       "<div>                            <div id=\"fd34c454-9a33-4cad-981f-502673d0a19d\" class=\"plotly-graph-div\" style=\"height:525px; width:100%;\"></div>            <script type=\"text/javascript\">                require([\"plotly\"], function(Plotly) {                    window.PLOTLYENV=window.PLOTLYENV || {};                                    if (document.getElementById(\"fd34c454-9a33-4cad-981f-502673d0a19d\")) {                    Plotly.newPlot(                        \"fd34c454-9a33-4cad-981f-502673d0a19d\",                        [{\"mode\":\"markers\",\"name\":\"Actual\",\"x\":[385,397,367,121,9,147,333,388,322,372,16,41,350,307,178,266,293,252,286,45,153,70,402,148,112,320,90,336,415,78,160,124,167,374,183,60,227,181,277,134,216,446,430,201,259,395,369,29,370,260,158,331,171,399,33,251,74,317,448,436,237,240,310,352,20,119,215,127,386,162,302,135,324,83,188,295,213,298,330,256,332,182,311,403,73,55,359,85,269,159,177,108,172,241,115,267,35,274,37,34,1,313,234,102,279,421,101,150,363,271,123,361,344,435,447,200,442,412,25,345,390,349,261,438,433,221,208,347,432,308,346,22,42,6,312,88,50,80,258,283,193,145,54,232,66,423,26,151,185,334,122,96,190,377,84,144,314,358,443,270,146,61,196,68,79,129,299,67,318,125,366,166,292,97,301,219,429,309,373,356,180,280,253,52,428,142,184,357,77,82,381,217,305,431,27,375,199,94,254,235,23,21,149,285,341,131,46,338,226,207,163,244,71,368,376,262,120,409,197,250,14,303,340,427,3,28,113,92,407,58,173,137,214,229,47,174,410,282,342,406,276,441,10,30,416,191,380,404,152,353,203,248,273,140,362,116,0,300,398,327,329,238,294,103,414,7,319,284,99,164,62,264,239,105,384,343,107,223,76,394,126,275,249,328,44,418,59,437,413,371,136,111,339,49,440,396,5,110,192,220,316,245,424,444,132,40,393,75,87,63,326,337,11,351],\"y\":[11.5,13.0,18.0,9.0,1.9,10.0,17.0,12.0,16.0,20.0,2.9,3.25,16.0,15.0,10.0,22.5,15.0,25.0,14.0,3.5,17.5,6.0,13.0,10.0,10.0,16.0,6.0,16.0,15.0,6.0,2.5,9.25,8.0,19.0,18.5,4.8,20.0,17.5,15.0,12.0,20.0,15.0,15.0,15.0,20.0,13.75,19.0,3.25,19.0,20.0,6.5,17.0,10.0,15.0,3.25,25.0,6.0,16.0,15.0,15.0,32.5,25.0,15.0,16.0,3.0,7.75,16.25,10.5,12.0,1.0,15.0,11.25,17.0,6.0,20.0,15.0,20.0,14.0,16.0,20.0,16.0,20.0,15.0,15.0,6.0,3.65,18.0,6.0,17.5,3.75,11.25,7.0,12.5,25.0,7.5,25.0,3.25,15.0,3.25,3.25,1.05,16.0,50.0,7.5,17.5,15.0,8.0,16.0,17.0,17.5,9.25,17.0,15.0,15.0,15.0,17.5,15.0,15.0,3.0,15.0,13.75,15.0,20.0,12.5,15.0,25.0,20.0,15.0,15.0,15.0,15.0,3.05,3.25,1.5,15.0,6.0,3.65,6.0,20.0,13.0,17.5,10.5,3.75,30.0,6.0,15.0,3.15,18.5,17.5,17.0,10.0,7.0,20.0,15.0,6.0,11.0,15.0,17.0,15.0,15.0,10.25,5.0,15.0,6.0,6.0,10.0,14.0,5.95,15.0,8.5,17.5,10.0,14.0,7.4,15.0,25.0,15.0,14.0,18.75,17.0,17.5,15.0,25.0,3.65,15.0,10.5,20.0,15.0,6.0,6.0,13.0,25.0,15.0,15.0,3.25,17.5,15.0,6.5,20.0,40.0,3.05,3.0,15.0,13.0,15.0,9.75,3.5,15.0,25.0,15.0,2.5,25.0,6.0,19.0,17.0,17.5,8.0,15.0,15.0,25.0,2.6,15.0,15.0,15.0,1.4,3.25,8.5,6.4,15.0,3.75,12.5,14.0,18.75,25.0,3.5,12.5,15.0,14.0,15.0,15.0,17.5,14.0,2.0,3.25,15.0,20.0,13.0,15.0,19.0,16.0,17.5,17.5,17.5,11.0,17.5,7.75,1.0,15.0,15.0,17.0,15.5,30.0,14.5,8.0,15.0,1.7,17.0,14.0,8.2,7.5,5.5,17.5,25.0,5.5,11.0,16.0,7.0,25.0,6.0,15.0,8.75,18.0,20.0,16.25,3.25,15.0,3.65,15.0,15.0,20.0,13.75,10.0,15.0,3.65,12.5,13.75,1.45,8.5,15.0,25.0,13.5,25.0,15.0,15.0,11.5,3.25,13.75,6.0,6.0,5.5,17.0,16.0,2.1,15.0],\"type\":\"scatter\"},{\"mode\":\"lines\",\"name\":\"Predicted\",\"x\":[385,397,367,121,9,147,333,388,322,372,16,41,350,307,178,266,293,252,286,45,153,70,402,148,112,320,90,336,415,78,160,124,167,374,183,60,227,181,277,134,216,446,430,201,259,395,369,29,370,260,158,331,171,399,33,251,74,317,448,436,237,240,310,352,20,119,215,127,386,162,302,135,324,83,188,295,213,298,330,256,332,182,311,403,73,55,359,85,269,159,177,108,172,241,115,267,35,274,37,34,1,313,234,102,279,421,101,150,363,271,123,361,344,435,447,200,442,412,25,345,390,349,261,438,433,221,208,347,432,308,346,22,42,6,312,88,50,80,258,283,193,145,54,232,66,423,26,151,185,334,122,96,190,377,84,144,314,358,443,270,146,61,196,68,79,129,299,67,318,125,366,166,292,97,301,219,429,309,373,356,180,280,253,52,428,142,184,357,77,82,381,217,305,431,27,375,199,94,254,235,23,21,149,285,341,131,46,338,226,207,163,244,71,368,376,262,120,409,197,250,14,303,340,427,3,28,113,92,407,58,173,137,214,229,47,174,410,282,342,406,276,441,10,30,416,191,380,404,152,353,203,248,273,140,362,116,0,300,398,327,329,238,294,103,414,7,319,284,99,164,62,264,239,105,384,343,107,223,76,394,126,275,249,328,44,418,59,437,413,371,136,111,339,49,440,396,5,110,192,220,316,245,424,444,132,40,393,75,87,63,326,337,11,351],\"y\":[18.040350813694893,18.413557333582002,17.480541033864228,9.82980737617849,6.3465465238988035,10.63842150260056,16.42312256085075,18.13365244366667,16.081016584287568,17.636043750483857,6.564250327166284,7.341763910264428,16.95183179735749,15.614508434428682,11.602538345642259,14.339386158147725,15.17910082789372,13.903978551612765,14.96139702462624,7.466166083560131,10.825024762544114,8.243679666658275,18.569060050201628,10.669522045924484,9.549902486263157,16.018815497639718,8.86569053313679,16.51642419082253,18.973367113412664,8.492484013249681,11.042728565811593,9.923109006150266,11.260432369079075,17.698244837131707,11.758041062261887,7.932674233419018,13.126464968514622,11.695839975614035,14.681492134710908,10.234114439389526,12.784358991951438,19.937483956454365,19.439875263271553,12.31785084209255,14.121682354880246,18.35135624693415,17.54274212051208,6.968557390377319,17.573842663836004,14.152782898204173,10.980527479163744,16.3609214742029,11.384834542374778,18.47575842022985,7.092959563673022,13.87287800828884,8.368081839953978,15.925513867667938,19.999685043102215,19.626478523215106,13.437470401753878,13.530772031725656,15.707810064400459,17.014032884005342,6.688652500461987,9.767606289530638,12.753258448627513,10.016410636122044,18.071451357018816,11.104929652459447,15.459005717809053,10.26521498271345,16.14321767093542,8.64798672986931,11.913543778881515,15.241301914541573,12.69105736197966,15.33460354451335,16.329820930878974,14.028380724908468,16.392022017526827,11.726940518937962,15.738910607724385,18.600160593525555,8.336981296630054,7.777171516799389,17.23173668727282,8.710187816517163,14.432687788119502,11.011628022487669,11.571437802318332,9.425500312967454,11.415935085698703,13.56187257504958,9.643204116234935,14.370486701471652,7.155160650320873,14.588190504739131,7.217361736968725,7.124060106996948,6.097742177307397,15.801111694372235,13.344168771782101,9.2388970530239,14.743693221358761,19.15997037335622,9.207796509699975,10.731723132572338,17.356138860568525,14.494888874767355,9.892008462826341,17.293937773920675,16.765228537413936,19.59537797989118,19.968584499778288,12.286750298768624,19.813081783158662,18.880065483440887,6.844155217081616,16.796329080737863,18.19585353031452,16.920731254033566,14.183883441528096,19.68867960986296,19.53317689324333,12.939861708571065,12.53555464536003,16.858530167385712,19.502076349919403,15.645608977752609,16.827429624061786,6.750853587109838,7.372864453588354,6.253244893927026,15.770011151048312,8.803489446488939,7.62166880017976,8.554685099897533,14.09058181155632,14.868095394654464,12.069046495501144,10.576220415952708,7.746070973475463,13.28196768513425,8.119277493362572,19.22217146000407,6.875255760405541,10.762823675896263,11.820242148909738,16.454223104174677,9.860907919502415,9.052293793080345,11.975744865529368,17.791546467103487,8.679087273193236,10.545119872628781,15.832212237696162,17.200636143948895,19.844182326482585,14.463788331443428,10.607320959276635,7.963774776742944,12.16234812547292,8.181478580010424,8.523584556573606,10.078611722769896,15.365704087837276,8.150378036686497,15.956614410991865,9.954209549474193,17.4494404905403,11.22933182575515,15.148000284569797,9.083394336404272,15.427905174485126,12.877660621923216,19.408774719947626,15.676709521076532,17.667144293807784,17.138435057301045,11.664739432290109,14.774793764682688,13.93507909493669,7.683869886827612,19.3776741766237,10.482918785980932,11.789141605585812,17.16953560062497,8.461383469925757,8.616886186545385,17.91594864039919,12.815459535275362,15.552307347780829,19.470975806595476,6.906356303729467,17.729345380455634,12.255649755444699,8.990092706432494,13.966179638260616,13.375269315106028,6.781954130433764,6.7197530437859125,10.700622589248411,14.930296481302314,16.671926907442156,10.140812809417747,7.497266626884057,16.57862527747038,13.095364425190695,12.504454102036105,11.136030195783372,13.655174205021359,8.2747802099822,17.511641577188154,17.76044592377956,14.214983984852022,9.798706832854563,18.78676385346911,12.193448668796847,13.841777464964913,6.502049240518432,15.49010626113298,16.640826364118233,19.346573633299773,6.159943263955249,6.937456847053393,9.581003029587084,8.927891619784642,18.724562766821258,7.870473146771166,11.44703562902263,10.327416069361302,12.722157905303586,13.188666055162471,7.528367170207982,11.478136172346556,18.817864396793034,14.836994851330537,16.703027450766083,18.69346222349733,14.650391591386985,19.781981239834735,6.377647067222729,6.999657933701244,19.00446765673659,12.006845408853293,17.884848097075263,18.63126113684948,10.793924219220187,17.04513342732927,12.380051928740402,13.779576378317062,14.557089961415205,10.420717699333078,17.325038317244598,9.67430465955886,6.066641633983472,15.396804631161203,18.444657876905925,16.236519300907197,16.298720387555047,13.468570945077804,15.210201371217646,9.269997596347824,18.942266570088737,6.284345437250952,15.987714954315791,14.89919593797839,9.145595423052121,11.167130739107296,7.994875320066869,14.277185071499876,13.49967148840173,9.332198682995678,18.009250270370966,16.73412799409001,9.39439976964353,13.002062795218919,8.43028292660183,18.320255703610222,9.985310092798118,14.619291048063058,13.810676921640987,16.267619844231124,7.435065540236206,19.06666874338444,7.901573690095092,19.657579066539032,18.911166026764814,17.60494320715993,10.296315526037375,9.518801942939232,16.609725820794306,7.590568256855834,19.75088069651081,18.382456790258075,6.2221443506031004,9.487701399615306,12.037945952177218,12.90876116524714,15.894413324344015,13.686274748345284,19.253272003327996,19.87528286980651,10.171913352741672,7.310663366940503,18.2891551602863,8.399182383277903,8.772388903165012,8.025975863390794,16.20541875758327,16.547524734146453,6.408747610546655,16.982932340681415],\"type\":\"scatter\"}],                        {\"template\":{\"data\":{\"barpolar\":[{\"marker\":{\"line\":{\"color\":\"#E5ECF6\",\"width\":0.5},\"pattern\":{\"fillmode\":\"overlay\",\"size\":10,\"solidity\":0.2}},\"type\":\"barpolar\"}],\"bar\":[{\"error_x\":{\"color\":\"#2a3f5f\"},\"error_y\":{\"color\":\"#2a3f5f\"},\"marker\":{\"line\":{\"color\":\"#E5ECF6\",\"width\":0.5},\"pattern\":{\"fillmode\":\"overlay\",\"size\":10,\"solidity\":0.2}},\"type\":\"bar\"}],\"carpet\":[{\"aaxis\":{\"endlinecolor\":\"#2a3f5f\",\"gridcolor\":\"white\",\"linecolor\":\"white\",\"minorgridcolor\":\"white\",\"startlinecolor\":\"#2a3f5f\"},\"baxis\":{\"endlinecolor\":\"#2a3f5f\",\"gridcolor\":\"white\",\"linecolor\":\"white\",\"minorgridcolor\":\"white\",\"startlinecolor\":\"#2a3f5f\"},\"type\":\"carpet\"}],\"choropleth\":[{\"colorbar\":{\"outlinewidth\":0,\"ticks\":\"\"},\"type\":\"choropleth\"}],\"contourcarpet\":[{\"colorbar\":{\"outlinewidth\":0,\"ticks\":\"\"},\"type\":\"contourcarpet\"}],\"contour\":[{\"colorbar\":{\"outlinewidth\":0,\"ticks\":\"\"},\"colorscale\":[[0.0,\"#0d0887\"],[0.1111111111111111,\"#46039f\"],[0.2222222222222222,\"#7201a8\"],[0.3333333333333333,\"#9c179e\"],[0.4444444444444444,\"#bd3786\"],[0.5555555555555556,\"#d8576b\"],[0.6666666666666666,\"#ed7953\"],[0.7777777777777778,\"#fb9f3a\"],[0.8888888888888888,\"#fdca26\"],[1.0,\"#f0f921\"]],\"type\":\"contour\"}],\"heatmapgl\":[{\"colorbar\":{\"outlinewidth\":0,\"ticks\":\"\"},\"colorscale\":[[0.0,\"#0d0887\"],[0.1111111111111111,\"#46039f\"],[0.2222222222222222,\"#7201a8\"],[0.3333333333333333,\"#9c179e\"],[0.4444444444444444,\"#bd3786\"],[0.5555555555555556,\"#d8576b\"],[0.6666666666666666,\"#ed7953\"],[0.7777777777777778,\"#fb9f3a\"],[0.8888888888888888,\"#fdca26\"],[1.0,\"#f0f921\"]],\"type\":\"heatmapgl\"}],\"heatmap\":[{\"colorbar\":{\"outlinewidth\":0,\"ticks\":\"\"},\"colorscale\":[[0.0,\"#0d0887\"],[0.1111111111111111,\"#46039f\"],[0.2222222222222222,\"#7201a8\"],[0.3333333333333333,\"#9c179e\"],[0.4444444444444444,\"#bd3786\"],[0.5555555555555556,\"#d8576b\"],[0.6666666666666666,\"#ed7953\"],[0.7777777777777778,\"#fb9f3a\"],[0.8888888888888888,\"#fdca26\"],[1.0,\"#f0f921\"]],\"type\":\"heatmap\"}],\"histogram2dcontour\":[{\"colorbar\":{\"outlinewidth\":0,\"ticks\":\"\"},\"colorscale\":[[0.0,\"#0d0887\"],[0.1111111111111111,\"#46039f\"],[0.2222222222222222,\"#7201a8\"],[0.3333333333333333,\"#9c179e\"],[0.4444444444444444,\"#bd3786\"],[0.5555555555555556,\"#d8576b\"],[0.6666666666666666,\"#ed7953\"],[0.7777777777777778,\"#fb9f3a\"],[0.8888888888888888,\"#fdca26\"],[1.0,\"#f0f921\"]],\"type\":\"histogram2dcontour\"}],\"histogram2d\":[{\"colorbar\":{\"outlinewidth\":0,\"ticks\":\"\"},\"colorscale\":[[0.0,\"#0d0887\"],[0.1111111111111111,\"#46039f\"],[0.2222222222222222,\"#7201a8\"],[0.3333333333333333,\"#9c179e\"],[0.4444444444444444,\"#bd3786\"],[0.5555555555555556,\"#d8576b\"],[0.6666666666666666,\"#ed7953\"],[0.7777777777777778,\"#fb9f3a\"],[0.8888888888888888,\"#fdca26\"],[1.0,\"#f0f921\"]],\"type\":\"histogram2d\"}],\"histogram\":[{\"marker\":{\"pattern\":{\"fillmode\":\"overlay\",\"size\":10,\"solidity\":0.2}},\"type\":\"histogram\"}],\"mesh3d\":[{\"colorbar\":{\"outlinewidth\":0,\"ticks\":\"\"},\"type\":\"mesh3d\"}],\"parcoords\":[{\"line\":{\"colorbar\":{\"outlinewidth\":0,\"ticks\":\"\"}},\"type\":\"parcoords\"}],\"pie\":[{\"automargin\":true,\"type\":\"pie\"}],\"scatter3d\":[{\"line\":{\"colorbar\":{\"outlinewidth\":0,\"ticks\":\"\"}},\"marker\":{\"colorbar\":{\"outlinewidth\":0,\"ticks\":\"\"}},\"type\":\"scatter3d\"}],\"scattercarpet\":[{\"marker\":{\"colorbar\":{\"outlinewidth\":0,\"ticks\":\"\"}},\"type\":\"scattercarpet\"}],\"scattergeo\":[{\"marker\":{\"colorbar\":{\"outlinewidth\":0,\"ticks\":\"\"}},\"type\":\"scattergeo\"}],\"scattergl\":[{\"marker\":{\"colorbar\":{\"outlinewidth\":0,\"ticks\":\"\"}},\"type\":\"scattergl\"}],\"scattermapbox\":[{\"marker\":{\"colorbar\":{\"outlinewidth\":0,\"ticks\":\"\"}},\"type\":\"scattermapbox\"}],\"scatterpolargl\":[{\"marker\":{\"colorbar\":{\"outlinewidth\":0,\"ticks\":\"\"}},\"type\":\"scatterpolargl\"}],\"scatterpolar\":[{\"marker\":{\"colorbar\":{\"outlinewidth\":0,\"ticks\":\"\"}},\"type\":\"scatterpolar\"}],\"scatter\":[{\"fillpattern\":{\"fillmode\":\"overlay\",\"size\":10,\"solidity\":0.2},\"type\":\"scatter\"}],\"scatterternary\":[{\"marker\":{\"colorbar\":{\"outlinewidth\":0,\"ticks\":\"\"}},\"type\":\"scatterternary\"}],\"surface\":[{\"colorbar\":{\"outlinewidth\":0,\"ticks\":\"\"},\"colorscale\":[[0.0,\"#0d0887\"],[0.1111111111111111,\"#46039f\"],[0.2222222222222222,\"#7201a8\"],[0.3333333333333333,\"#9c179e\"],[0.4444444444444444,\"#bd3786\"],[0.5555555555555556,\"#d8576b\"],[0.6666666666666666,\"#ed7953\"],[0.7777777777777778,\"#fb9f3a\"],[0.8888888888888888,\"#fdca26\"],[1.0,\"#f0f921\"]],\"type\":\"surface\"}],\"table\":[{\"cells\":{\"fill\":{\"color\":\"#EBF0F8\"},\"line\":{\"color\":\"white\"}},\"header\":{\"fill\":{\"color\":\"#C8D4E3\"},\"line\":{\"color\":\"white\"}},\"type\":\"table\"}]},\"layout\":{\"annotationdefaults\":{\"arrowcolor\":\"#2a3f5f\",\"arrowhead\":0,\"arrowwidth\":1},\"autotypenumbers\":\"strict\",\"coloraxis\":{\"colorbar\":{\"outlinewidth\":0,\"ticks\":\"\"}},\"colorscale\":{\"diverging\":[[0,\"#8e0152\"],[0.1,\"#c51b7d\"],[0.2,\"#de77ae\"],[0.3,\"#f1b6da\"],[0.4,\"#fde0ef\"],[0.5,\"#f7f7f7\"],[0.6,\"#e6f5d0\"],[0.7,\"#b8e186\"],[0.8,\"#7fbc41\"],[0.9,\"#4d9221\"],[1,\"#276419\"]],\"sequential\":[[0.0,\"#0d0887\"],[0.1111111111111111,\"#46039f\"],[0.2222222222222222,\"#7201a8\"],[0.3333333333333333,\"#9c179e\"],[0.4444444444444444,\"#bd3786\"],[0.5555555555555556,\"#d8576b\"],[0.6666666666666666,\"#ed7953\"],[0.7777777777777778,\"#fb9f3a\"],[0.8888888888888888,\"#fdca26\"],[1.0,\"#f0f921\"]],\"sequentialminus\":[[0.0,\"#0d0887\"],[0.1111111111111111,\"#46039f\"],[0.2222222222222222,\"#7201a8\"],[0.3333333333333333,\"#9c179e\"],[0.4444444444444444,\"#bd3786\"],[0.5555555555555556,\"#d8576b\"],[0.6666666666666666,\"#ed7953\"],[0.7777777777777778,\"#fb9f3a\"],[0.8888888888888888,\"#fdca26\"],[1.0,\"#f0f921\"]]},\"colorway\":[\"#636efa\",\"#EF553B\",\"#00cc96\",\"#ab63fa\",\"#FFA15A\",\"#19d3f3\",\"#FF6692\",\"#B6E880\",\"#FF97FF\",\"#FECB52\"],\"font\":{\"color\":\"#2a3f5f\"},\"geo\":{\"bgcolor\":\"white\",\"lakecolor\":\"white\",\"landcolor\":\"#E5ECF6\",\"showlakes\":true,\"showland\":true,\"subunitcolor\":\"white\"},\"hoverlabel\":{\"align\":\"left\"},\"hovermode\":\"closest\",\"mapbox\":{\"style\":\"light\"},\"paper_bgcolor\":\"white\",\"plot_bgcolor\":\"#E5ECF6\",\"polar\":{\"angularaxis\":{\"gridcolor\":\"white\",\"linecolor\":\"white\",\"ticks\":\"\"},\"bgcolor\":\"#E5ECF6\",\"radialaxis\":{\"gridcolor\":\"white\",\"linecolor\":\"white\",\"ticks\":\"\"}},\"scene\":{\"xaxis\":{\"backgroundcolor\":\"#E5ECF6\",\"gridcolor\":\"white\",\"gridwidth\":2,\"linecolor\":\"white\",\"showbackground\":true,\"ticks\":\"\",\"zerolinecolor\":\"white\"},\"yaxis\":{\"backgroundcolor\":\"#E5ECF6\",\"gridcolor\":\"white\",\"gridwidth\":2,\"linecolor\":\"white\",\"showbackground\":true,\"ticks\":\"\",\"zerolinecolor\":\"white\"},\"zaxis\":{\"backgroundcolor\":\"#E5ECF6\",\"gridcolor\":\"white\",\"gridwidth\":2,\"linecolor\":\"white\",\"showbackground\":true,\"ticks\":\"\",\"zerolinecolor\":\"white\"}},\"shapedefaults\":{\"line\":{\"color\":\"#2a3f5f\"}},\"ternary\":{\"aaxis\":{\"gridcolor\":\"white\",\"linecolor\":\"white\",\"ticks\":\"\"},\"baxis\":{\"gridcolor\":\"white\",\"linecolor\":\"white\",\"ticks\":\"\"},\"bgcolor\":\"#E5ECF6\",\"caxis\":{\"gridcolor\":\"white\",\"linecolor\":\"white\",\"ticks\":\"\"}},\"title\":{\"x\":0.05},\"xaxis\":{\"automargin\":true,\"gridcolor\":\"white\",\"linecolor\":\"white\",\"ticks\":\"\",\"title\":{\"standoff\":15},\"zerolinecolor\":\"white\",\"zerolinewidth\":2},\"yaxis\":{\"automargin\":true,\"gridcolor\":\"white\",\"linecolor\":\"white\",\"ticks\":\"\",\"title\":{\"standoff\":15},\"zerolinecolor\":\"white\",\"zerolinewidth\":2}}},\"title\":{\"text\":\"Stock Prices of Bombay Iron & Steel\"},\"xaxis\":{\"title\":{\"font\":{\"size\":14},\"text\":\"Day\"}},\"yaxis\":{\"title\":{\"font\":{\"size\":14},\"text\":\"Price\"}}},                        {\"responsive\": true}                    ).then(function(){\n",
       "                            \n",
       "var gd = document.getElementById('fd34c454-9a33-4cad-981f-502673d0a19d');\n",
       "var x = new MutationObserver(function (mutations, observer) {{\n",
       "        var display = window.getComputedStyle(gd).display;\n",
       "        if (!display || display === 'none') {{\n",
       "            console.log([gd, 'removed!']);\n",
       "            Plotly.purge(gd);\n",
       "            observer.disconnect();\n",
       "        }}\n",
       "}});\n",
       "\n",
       "// Listen for the removal of the full notebook cells\n",
       "var notebookContainer = gd.closest('#notebook-container');\n",
       "if (notebookContainer) {{\n",
       "    x.observe(notebookContainer, {childList: true});\n",
       "}}\n",
       "\n",
       "// Listen for the clearing of the current output cell\n",
       "var outputEl = gd.closest('.output');\n",
       "if (outputEl) {{\n",
       "    x.observe(outputEl, {childList: true});\n",
       "}}\n",
       "\n",
       "                        })                };                });            </script>        </div>"
      ]
     },
     "metadata": {},
     "output_type": "display_data"
    }
   ],
   "source": [
    "trace1=go.Scatter(\n",
    "    x=X_train.T[0],\n",
    "    y=Y_train,\n",
    "    mode='markers',\n",
    "    name=\"Actual\"\n",
    ")\n",
    "trace2=go.Scatter(\n",
    "    x=X_train.T[0],\n",
    "    y=lm.predict(X_train).T,\n",
    "    mode='lines',\n",
    "    name=\"Predicted\"\n",
    ")\n",
    "Bombay_data=[trace1,trace2]\n",
    "layout.xaxis.title.text='Day'\n",
    "plot2=go.Figure(data=Bombay_data,layout=layout)\n",
    "\n",
    "iplot(plot2)"
   ]
  },
  {
   "cell_type": "markdown",
   "metadata": {},
   "source": [
    "## Same Plot but with matplotlip"
   ]
  },
  {
   "cell_type": "code",
   "execution_count": 242,
   "metadata": {
    "scrolled": true
   },
   "outputs": [
    {
     "data": {
      "image/png": "[encoded data removed]",
      "text/plain": [
       "<Figure size 1008x576 with 1 Axes>"
      ]
     },
     "metadata": {
      "needs_background": "light"
     },
     "output_type": "display_data"
    }
   ],
   "source": [
    "fig, ax=plt.subplots(figsize=(14,8))\n",
    "ax.scatter(X_test,Y_test,color='b',marker='o')\n",
    "ax.plot(X_test, lm.predict(X_test),color='r')\n",
    "ax.set_ylabel(\"Price\",size=18)\n",
    "ax.set_xlabel(\"Day\",size=18)\n",
    "ax.set_title('Stock Prices of Bombay Iron & Steel',size=20)\n",
    "plt.legend(['Predicted','Actual'])\n",
    "plt.show()"
   ]
  },
  {
   "cell_type": "code",
   "execution_count": 189,
   "metadata": {},
   "outputs": [
    {
     "name": "stdout",
     "output_type": "stream",
     "text": [
      "MeanSquared error: 37.45554553685565\n",
      "r2score: 31.597843459382258\n"
     ]
    }
   ],
   "source": [
    "print(\"MeanSquared error: \"+ str(mse(Y_test, lm.predict(X_test))))\n",
    "print(\"r2score: \" + str(r2_score(Y_test, lm.predict(X_test))*100))"
   ]
  },
  {
   "cell_type": "markdown",
   "metadata": {
    "id": "b8wJaacCQ-Le"
   },
   "source": [
    "# LSTM Model"
   ]
  },
  {
   "cell_type": "markdown",
   "metadata": {},
   "source": [
    "## Plotting Close History"
   ]
  },
  {
   "cell_type": "code",
   "execution_count": 311,
   "metadata": {
    "colab": {
     "base_uri": "https://localhost:8080/",
     "height": 500
    },
    "id": "5BhodnYWwgFG",
    "outputId": "62419990-5acb-452d-aea7-aa1d5ad9181e"
   },
   "outputs": [
    {
     "data": {
      "text/plain": [
       "[<matplotlib.lines.Line2D at 0x1e0ba51e3a0>]"
      ]
     },
     "execution_count": 311,
     "metadata": {},
     "output_type": "execute_result"
    },
    {
     "data": {
      "image/png": "[encoded data removed]",
      "text/plain": [
       "<Figure size 1152x576 with 1 Axes>"
      ]
     },
     "metadata": {
      "needs_background": "light"
     },
     "output_type": "display_data"
    }
   ],
   "source": [
    "data[\"Date\"]=pd.to_datetime(data.Date,format=\"%m/%d/%Y\")\n",
    "plt.figure(figsize=(16,8))\n",
    "plt.plot(data['Date'],data[\"Close\"],label='Close Price history')"
   ]
  },
  {
   "cell_type": "markdown",
   "metadata": {
    "id": "1vSl148hz0-1"
   },
   "source": [
    "## Scaling Data\n"
   ]
  },
  {
   "cell_type": "code",
   "execution_count": 439,
   "metadata": {
    "id": "HI660RJvz1nW"
   },
   "outputs": [
    {
     "data": {
      "text/plain": [
       "(350, 1)"
      ]
     },
     "execution_count": 439,
     "metadata": {},
     "output_type": "execute_result"
    }
   ],
   "source": [
    "final_dataset=data.iloc[:,4:5]\n",
    "train_data=final_dataset[0:350]\n",
    "test_data=final_dataset[350:]\n",
    "sc=MinMaxScaler(feature_range=(0,1))\n",
    "train_data=sc.fit_transform(train_data)\n",
    "train_data.shape"
   ]
  },
  {
   "cell_type": "markdown",
   "metadata": {},
   "source": [
    "## Preparing Training Data"
   ]
  },
  {
   "cell_type": "code",
   "execution_count": 440,
   "metadata": {},
   "outputs": [],
   "source": [
    "x_train,y_train=[],[]\n",
    "for i in range(60,len(train_data)):#60 timestep//length of data\n",
    "    x_train.append(train_data[i-60:i,0])\n",
    "    y_train.append(train_data[i,0])\n",
    "    \n",
    "x_train,y_train=np.array(x_train),np.array(y_train)"
   ]
  },
  {
   "cell_type": "code",
   "execution_count": 441,
   "metadata": {},
   "outputs": [
    {
     "data": {
      "text/plain": [
       "(290, 60, 1)"
      ]
     },
     "execution_count": 441,
     "metadata": {},
     "output_type": "execute_result"
    }
   ],
   "source": [
    "x_train=np.reshape(x_train,(x_train.shape[0],x_train.shape[1],1))\n",
    "x_train.shape"
   ]
  },
  {
   "cell_type": "markdown",
   "metadata": {},
   "source": [
    "## Building The Model"
   ]
  },
  {
   "cell_type": "code",
   "execution_count": 464,
   "metadata": {
    "colab": {
     "base_uri": "https://localhost:8080/"
    },
    "id": "aBFqfx1684-6",
    "outputId": "4c70369e-9f82-45a2-f1d5-a1aa1d8bbae7"
   },
   "outputs": [],
   "source": [
    "model=Sequential()\n",
    "\n",
    "model.add(LSTM(units=10,return_sequences=True,input_shape=(x_train.shape[1],1)))\n",
    "# model.add(Dropout(0.2))\n",
    "\n",
    "# model.add(LSTM(units=50,return_sequences=True))\n",
    "# model.add(Dropout(0.2))\n",
    "\n",
    "# model.add(LSTM(units=50,return_sequences=True))\n",
    "# model.add(Dropout(0.2))\n",
    "\n",
    "model.add(LSTM(units=10))\n",
    "# model.add(Dropout(0.2))\n",
    "\n",
    "model.add(Dense(1))\n",
    "# inputs_data=new_dataset[len(new_dataset)-len(valid_data)-60:].values\n",
    "# inputs_data=inputs_data.reshape(-1,1)\n",
    "# inputs_data=scaler.transform(inputs_data)\n",
    "model.compile(loss='mean_squared_error',optimizer='adam')"
   ]
  },
  {
   "cell_type": "code",
   "execution_count": 465,
   "metadata": {},
   "outputs": [
    {
     "name": "stdout",
     "output_type": "stream",
     "text": [
      "Epoch 1/20\n",
      "290/290 - 10s - loss: 0.0120 - 10s/epoch - 34ms/step\n",
      "Epoch 2/20\n",
      "290/290 - 7s - loss: 0.0110 - 7s/epoch - 25ms/step\n",
      "Epoch 3/20\n",
      "290/290 - 8s - loss: 0.0083 - 8s/epoch - 29ms/step\n",
      "Epoch 4/20\n",
      "290/290 - 8s - loss: 0.0084 - 8s/epoch - 29ms/step\n",
      "Epoch 5/20\n",
      "290/290 - 8s - loss: 0.0060 - 8s/epoch - 29ms/step\n",
      "Epoch 6/20\n",
      "290/290 - 8s - loss: 0.0063 - 8s/epoch - 29ms/step\n",
      "Epoch 7/20\n",
      "290/290 - 8s - loss: 0.0049 - 8s/epoch - 29ms/step\n",
      "Epoch 8/20\n",
      "290/290 - 11s - loss: 0.0052 - 11s/epoch - 37ms/step\n",
      "Epoch 9/20\n",
      "290/290 - 13s - loss: 0.0042 - 13s/epoch - 43ms/step\n",
      "Epoch 10/20\n",
      "290/290 - 10s - loss: 0.0046 - 10s/epoch - 34ms/step\n",
      "Epoch 11/20\n",
      "290/290 - 9s - loss: 0.0041 - 9s/epoch - 30ms/step\n",
      "Epoch 12/20\n",
      "290/290 - 10s - loss: 0.0044 - 10s/epoch - 33ms/step\n",
      "Epoch 13/20\n",
      "290/290 - 9s - loss: 0.0036 - 9s/epoch - 32ms/step\n",
      "Epoch 14/20\n",
      "290/290 - 10s - loss: 0.0041 - 10s/epoch - 36ms/step\n",
      "Epoch 15/20\n",
      "290/290 - 10s - loss: 0.0040 - 10s/epoch - 35ms/step\n",
      "Epoch 16/20\n",
      "290/290 - 9s - loss: 0.0037 - 9s/epoch - 31ms/step\n",
      "Epoch 17/20\n",
      "290/290 - 9s - loss: 0.0034 - 9s/epoch - 30ms/step\n",
      "Epoch 18/20\n",
      "290/290 - 9s - loss: 0.0036 - 9s/epoch - 33ms/step\n",
      "Epoch 19/20\n",
      "290/290 - 10s - loss: 0.0037 - 10s/epoch - 33ms/step\n",
      "Epoch 20/20\n",
      "290/290 - 9s - loss: 0.0034 - 9s/epoch - 32ms/step\n"
     ]
    }
   ],
   "source": [
    "hist=model.fit(x_train,y_train,epochs=20,batch_size=1,verbose=2)"
   ]
  },
  {
   "cell_type": "markdown",
   "metadata": {},
   "source": [
    "## PLotting the loss of train"
   ]
  },
  {
   "cell_type": "code",
   "execution_count": 466,
   "metadata": {},
   "outputs": [
    {
     "data": {
      "image/png": "[encoded data removed]",
      "text/plain": [
       "<Figure size 432x288 with 1 Axes>"
      ]
     },
     "metadata": {
      "needs_background": "light"
     },
     "output_type": "display_data"
    }
   ],
   "source": [
    "plt.plot(hist.history['loss'])\n",
    "plt.title('Training model loss',size=14)\n",
    "plt.ylabel('loss',size=12)\n",
    "plt.xlabel('epoch',size=12)\n",
    "plt.legend(['train loss'])\n",
    "plt.show()"
   ]
  },
  {
   "cell_type": "markdown",
   "metadata": {},
   "source": [
    "## Preparing Testing Data"
   ]
  },
  {
   "cell_type": "code",
   "execution_count": 467,
   "metadata": {
    "id": "jmh_EsiY-NX4"
   },
   "outputs": [
    {
     "data": {
      "text/plain": [
       "(99, 1)"
      ]
     },
     "execution_count": 467,
     "metadata": {},
     "output_type": "execute_result"
    }
   ],
   "source": [
    "y_test=test_data.iloc[60:,0:].values\n",
    "#Making input array\n",
    "input_array=test_data.iloc[:,0:].values\n",
    "input_scaled=sc.transform(input_array)\n",
    "input_scaled.shape"
   ]
  },
  {
   "cell_type": "code",
   "execution_count": 468,
   "metadata": {},
   "outputs": [],
   "source": [
    "x_test=[]\n",
    "for i in range(60,len(test_data)):#60 timestep//length of data\n",
    "    x_test.append(input_scaled[i-60:i,0])\n",
    "    \n",
    "x_test=np.array(x_test)"
   ]
  },
  {
   "cell_type": "code",
   "execution_count": 469,
   "metadata": {},
   "outputs": [
    {
     "data": {
      "text/plain": [
       "(39, 60, 1)"
      ]
     },
     "execution_count": 469,
     "metadata": {},
     "output_type": "execute_result"
    }
   ],
   "source": [
    "x_test=np.reshape(x_test,(x_test.shape[0],x_test.shape[1],1))\n",
    "x_test.shape"
   ]
  },
  {
   "cell_type": "code",
   "execution_count": 470,
   "metadata": {},
   "outputs": [
    {
     "data": {
      "text/plain": [
       "array([[0.29630494],\n",
       "       [0.29619172],\n",
       "       [0.29639673],\n",
       "       [0.29669392],\n",
       "       [0.29693827],\n",
       "       [0.29708427],\n",
       "       [0.29714704],\n",
       "       [0.29716045],\n",
       "       [0.29715365],\n",
       "       [0.29714337],\n",
       "       [0.29713613],\n",
       "       [0.29713264],\n",
       "       [0.29713148],\n",
       "       [0.2971312 ],\n",
       "       [0.297131  ],\n",
       "       [0.29713053],\n",
       "       [0.29712987],\n",
       "       [0.29712915],\n",
       "       [0.29712856],\n",
       "       [0.29712805],\n",
       "       [0.29712772],\n",
       "       [0.2971275 ],\n",
       "       [0.29712737],\n",
       "       [0.29712728],\n",
       "       [0.29712722],\n",
       "       [0.29712722],\n",
       "       [0.29712722],\n",
       "       [0.29712722],\n",
       "       [0.29712722],\n",
       "       [0.27385685],\n",
       "       [0.2752104 ],\n",
       "       [0.26348042],\n",
       "       [0.264287  ],\n",
       "       [0.27940723],\n",
       "       [0.29270667],\n",
       "       [0.29826754],\n",
       "       [0.27485764],\n",
       "       [0.27448663],\n",
       "       [0.28466865]], dtype=float32)"
      ]
     },
     "execution_count": 470,
     "metadata": {},
     "output_type": "execute_result"
    }
   ],
   "source": [
    "y_pred=model.predict(x_test)\n",
    "y_pred"
   ]
  },
  {
   "cell_type": "code",
   "execution_count": 471,
   "metadata": {},
   "outputs": [],
   "source": [
    "predicted_price=sc.inverse_transform(y_pred)"
   ]
  },
  {
   "cell_type": "code",
   "execution_count": 473,
   "metadata": {
    "scrolled": false
   },
   "outputs": [
    {
     "data": {
      "image/png": "[encoded data removed]",
      "text/plain": [
       "<Figure size 432x288 with 1 Axes>"
      ]
     },
     "metadata": {
      "needs_background": "light"
     },
     "output_type": "display_data"
    }
   ],
   "source": [
    "plt.plot(y_test,color='b',label=\"Actual\")\n",
    "plt.plot(predicted_price,color='r',label='Predicted')\n",
    "plt.title(\"Predicted Price from LSTM\")\n",
    "plt.xlabel(\"day\")\n",
    "plt.ylabel(\"Close price\")\n",
    "plt.legend()\n",
    "plt.show()"
   ]
  },
  {
   "cell_type": "code",
   "execution_count": null,
   "metadata": {
    "id": "PATYz0OTJD14"
   },
   "outputs": [],
   "source": []
  }
 ],
 "metadata": {
  "colab": {
   "name": "Stock Price Prediction.ipynb",
   "provenance": []
  },
  "kernelspec": {
   "display_name": "Python 3 (ipykernel)",
   "language": "python",
   "name": "python3"
  },
  "language_info": {
   "codemirror_mode": {
    "name": "ipython",
    "version": 3
   },
   "file_extension": ".py",
   "mimetype": "text/x-python",
   "name": "python",
   "nbconvert_exporter": "python",
   "pygments_lexer": "ipython3",
   "version": "3.9.7"
  }
 },
 "nbformat": 4,
 "nbformat_minor": 1
}
